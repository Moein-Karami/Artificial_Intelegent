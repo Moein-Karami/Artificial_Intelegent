{
 "cells": [
  {
   "cell_type": "markdown",
   "metadata": {},
   "source": [
    "<html>\n",
    "    <div dir = \"rtl\" style=\"font-size: 26px; color: blue\">\n",
    "        <b>\n",
    "            پروژه چهارم درس هوش مصنوعی\n",
    "            <br>\n",
    "            <br>\n",
    "            Machine Learning\n",
    "        </b>\n",
    "    </div>\n",
    "<br>\n",
    "<br>\n",
    "<br>\n",
    "    <div dir = \"rtl\" style=\"font-size: 24px; color: gray\">\n",
    "        <b>\n",
    "            معین کرمی\n",
    "            <br>\n",
    "            <br>\n",
    "            810198540\n",
    "        </b>\n",
    "    </div>\n",
    "</html>\n"
   ]
  },
  {
   "cell_type": "markdown",
   "metadata": {},
   "source": [
    "<html>\n",
    "    <div dir = \"rtl\" style=\"font-size: 22px; color: green\">\n",
    "        <b>\n",
    "            هدف پروژه:\n",
    "        </b>\n",
    "    </div>\n",
    "    <div dir = \"rtl\" style = \"font-size: 16px\">\n",
    "        <b>\n",
    "            <br>\n",
    "             هدف از این پروژه آشنایی با\n",
    "            Machine Learning\n",
    "            و ساخت یک \n",
    "            classifier\n",
    "            است.\n",
    "        <br>\n",
    "        <br>\n",
    "    </div>\n",
    "    <div dir = \"rtl\" style=\"font-size: 22px; color: green\">\n",
    "        <b>\n",
    "            خلاصه ی مسئله:\n",
    "        </b>\n",
    "    </div>\n",
    "    <br>\n",
    "    <div dir = \"rtl\" style = \"font-size: 16px\">\n",
    "            در این مسئله یک مجموعه داده شامل اطلاعات تعدادی قطعه‌ی موسیقی که شامل مدت زمان، انرژی، هنرمند و ... است به ما داده می‌شود و ما با ایجاد یک  \n",
    "        classifier\n",
    "        با استفاده از متد \n",
    "        Machine Learning\n",
    "        و داده‌های در دسترس \n",
    "        به مشخص کردن ژانر قطعه های مختلف موسیقی می‌پردازیم.\n",
    "    </div>\n",
    "</html>\n"
   ]
  },
  {
   "cell_type": "markdown",
   "metadata": {},
   "source": [
    "<html>\n",
    "    <div dir = \"rtl\" style=\"font-size: 24px; color: orange\">\n",
    "        <b>\n",
    "            فاز صفر: \n",
    "            EDA and Visualization\n",
    "        </b>\n",
    "    </div>\n",
    "</html>"
   ]
  },
  {
   "cell_type": "code",
   "execution_count": 1,
   "metadata": {},
   "outputs": [],
   "source": [
    "import pandas as pd\n",
    "import numpy as np\n",
    "import matplotlib.pyplot as plt\n",
    "import sklearn.feature_selection\n",
    "import copy\n",
    "from sklearn.metrics import f1_score\n",
    "from sklearn.metrics import accuracy_score\n",
    "from sklearn.metrics import recall_score\n",
    "from sklearn.metrics import precision_score\n",
    "from sklearn.ensemble import RandomForestClassifier\n",
    "from sklearn.metrics import plot_confusion_matrix"
   ]
  },
  {
   "cell_type": "code",
   "execution_count": 2,
   "metadata": {},
   "outputs": [
    {
     "data": {
      "text/html": [
       "<div>\n",
       "<style scoped>\n",
       "    .dataframe tbody tr th:only-of-type {\n",
       "        vertical-align: middle;\n",
       "    }\n",
       "\n",
       "    .dataframe tbody tr th {\n",
       "        vertical-align: top;\n",
       "    }\n",
       "\n",
       "    .dataframe thead th {\n",
       "        text-align: right;\n",
       "    }\n",
       "</style>\n",
       "<table border=\"1\" class=\"dataframe\">\n",
       "  <thead>\n",
       "    <tr style=\"text-align: right;\">\n",
       "      <th></th>\n",
       "      <th>popularity</th>\n",
       "      <th>acousticness</th>\n",
       "      <th>danceability</th>\n",
       "      <th>duration_ms</th>\n",
       "      <th>energy</th>\n",
       "      <th>instrumentalness</th>\n",
       "      <th>liveness</th>\n",
       "      <th>loudness</th>\n",
       "      <th>speechiness</th>\n",
       "      <th>tempo</th>\n",
       "      <th>valence</th>\n",
       "    </tr>\n",
       "  </thead>\n",
       "  <tbody>\n",
       "    <tr>\n",
       "      <th>count</th>\n",
       "      <td>30000.000000</td>\n",
       "      <td>30000.000000</td>\n",
       "      <td>30000.000000</td>\n",
       "      <td>2.699000e+04</td>\n",
       "      <td>30000.000000</td>\n",
       "      <td>30000.000000</td>\n",
       "      <td>30000.000000</td>\n",
       "      <td>30000.000000</td>\n",
       "      <td>30000.000000</td>\n",
       "      <td>27067.000000</td>\n",
       "      <td>30000.000000</td>\n",
       "    </tr>\n",
       "    <tr>\n",
       "      <th>mean</th>\n",
       "      <td>47.769533</td>\n",
       "      <td>0.359661</td>\n",
       "      <td>0.540929</td>\n",
       "      <td>2.466460e+05</td>\n",
       "      <td>0.556709</td>\n",
       "      <td>0.180807</td>\n",
       "      <td>0.183610</td>\n",
       "      <td>-10.079862</td>\n",
       "      <td>0.083861</td>\n",
       "      <td>117.559824</td>\n",
       "      <td>0.446563</td>\n",
       "    </tr>\n",
       "    <tr>\n",
       "      <th>std</th>\n",
       "      <td>14.512665</td>\n",
       "      <td>0.364182</td>\n",
       "      <td>0.181719</td>\n",
       "      <td>1.126005e+05</td>\n",
       "      <td>0.277856</td>\n",
       "      <td>0.329365</td>\n",
       "      <td>0.150733</td>\n",
       "      <td>6.953936</td>\n",
       "      <td>0.093366</td>\n",
       "      <td>30.719934</td>\n",
       "      <td>0.248745</td>\n",
       "    </tr>\n",
       "    <tr>\n",
       "      <th>min</th>\n",
       "      <td>0.000000</td>\n",
       "      <td>0.000001</td>\n",
       "      <td>0.059600</td>\n",
       "      <td>1.550900e+04</td>\n",
       "      <td>0.000792</td>\n",
       "      <td>0.000000</td>\n",
       "      <td>0.015700</td>\n",
       "      <td>-47.046000</td>\n",
       "      <td>0.022300</td>\n",
       "      <td>34.347000</td>\n",
       "      <td>0.000000</td>\n",
       "    </tr>\n",
       "    <tr>\n",
       "      <th>25%</th>\n",
       "      <td>39.000000</td>\n",
       "      <td>0.029600</td>\n",
       "      <td>0.423000</td>\n",
       "      <td>1.904930e+05</td>\n",
       "      <td>0.361000</td>\n",
       "      <td>0.000000</td>\n",
       "      <td>0.095800</td>\n",
       "      <td>-12.057250</td>\n",
       "      <td>0.035000</td>\n",
       "      <td>92.340000</td>\n",
       "      <td>0.243000</td>\n",
       "    </tr>\n",
       "    <tr>\n",
       "      <th>50%</th>\n",
       "      <td>49.000000</td>\n",
       "      <td>0.205000</td>\n",
       "      <td>0.553000</td>\n",
       "      <td>2.245600e+05</td>\n",
       "      <td>0.602000</td>\n",
       "      <td>0.000089</td>\n",
       "      <td>0.122000</td>\n",
       "      <td>-7.623000</td>\n",
       "      <td>0.045100</td>\n",
       "      <td>115.491000</td>\n",
       "      <td>0.435000</td>\n",
       "    </tr>\n",
       "    <tr>\n",
       "      <th>75%</th>\n",
       "      <td>57.000000</td>\n",
       "      <td>0.710000</td>\n",
       "      <td>0.671000</td>\n",
       "      <td>2.726670e+05</td>\n",
       "      <td>0.786000</td>\n",
       "      <td>0.125250</td>\n",
       "      <td>0.222000</td>\n",
       "      <td>-5.429750</td>\n",
       "      <td>0.080300</td>\n",
       "      <td>139.817500</td>\n",
       "      <td>0.639000</td>\n",
       "    </tr>\n",
       "    <tr>\n",
       "      <th>max</th>\n",
       "      <td>99.000000</td>\n",
       "      <td>0.996000</td>\n",
       "      <td>0.977000</td>\n",
       "      <td>3.195440e+06</td>\n",
       "      <td>0.998000</td>\n",
       "      <td>0.994000</td>\n",
       "      <td>0.996000</td>\n",
       "      <td>1.342000</td>\n",
       "      <td>0.941000</td>\n",
       "      <td>219.331000</td>\n",
       "      <td>0.985000</td>\n",
       "    </tr>\n",
       "  </tbody>\n",
       "</table>\n",
       "</div>"
      ],
      "text/plain": [
       "         popularity  acousticness  danceability   duration_ms        energy  \\\n",
       "count  30000.000000  30000.000000  30000.000000  2.699000e+04  30000.000000   \n",
       "mean      47.769533      0.359661      0.540929  2.466460e+05      0.556709   \n",
       "std       14.512665      0.364182      0.181719  1.126005e+05      0.277856   \n",
       "min        0.000000      0.000001      0.059600  1.550900e+04      0.000792   \n",
       "25%       39.000000      0.029600      0.423000  1.904930e+05      0.361000   \n",
       "50%       49.000000      0.205000      0.553000  2.245600e+05      0.602000   \n",
       "75%       57.000000      0.710000      0.671000  2.726670e+05      0.786000   \n",
       "max       99.000000      0.996000      0.977000  3.195440e+06      0.998000   \n",
       "\n",
       "       instrumentalness      liveness      loudness   speechiness  \\\n",
       "count      30000.000000  30000.000000  30000.000000  30000.000000   \n",
       "mean           0.180807      0.183610    -10.079862      0.083861   \n",
       "std            0.329365      0.150733      6.953936      0.093366   \n",
       "min            0.000000      0.015700    -47.046000      0.022300   \n",
       "25%            0.000000      0.095800    -12.057250      0.035000   \n",
       "50%            0.000089      0.122000     -7.623000      0.045100   \n",
       "75%            0.125250      0.222000     -5.429750      0.080300   \n",
       "max            0.994000      0.996000      1.342000      0.941000   \n",
       "\n",
       "              tempo       valence  \n",
       "count  27067.000000  30000.000000  \n",
       "mean     117.559824      0.446563  \n",
       "std       30.719934      0.248745  \n",
       "min       34.347000      0.000000  \n",
       "25%       92.340000      0.243000  \n",
       "50%      115.491000      0.435000  \n",
       "75%      139.817500      0.639000  \n",
       "max      219.331000      0.985000  "
      ]
     },
     "execution_count": 2,
     "metadata": {},
     "output_type": "execute_result"
    }
   ],
   "source": [
    "data = pd.read_csv('dataset.csv')\n",
    "\n",
    "data.describe()"
   ]
  },
  {
   "cell_type": "markdown",
   "metadata": {},
   "source": [
    "<html>\n",
    "    <div dir = \"rtl\" style=\"font-size: 22px; color: green\">\n",
    "        <b>\n",
    "            1)\n",
    "        </b>\n",
    "    </div>\n",
    "    <div dir = \"rtl\" style = \"font-size: 16px\">\n",
    "        <br>\n",
    "        تابع \n",
    "        describe\n",
    "        اطلاعات آماری هر ستون مانند چارک ها، کمینه، بیشینه و ... را به ما می‌دهد. \n",
    "    </div>\n",
    "</html>"
   ]
  },
  {
   "cell_type": "code",
   "execution_count": 6,
   "metadata": {},
   "outputs": [
    {
     "ename": "NameError",
     "evalue": "name 'hist' is not defined",
     "output_type": "error",
     "traceback": [
      "\u001b[0;31m---------------------------------------------------------------------------\u001b[0m",
      "\u001b[0;31mNameError\u001b[0m                                 Traceback (most recent call last)",
      "\u001b[0;32m<ipython-input-6-30966b6883b3>\u001b[0m in \u001b[0;36m<module>\u001b[0;34m\u001b[0m\n\u001b[0;32m----> 1\u001b[0;31m \u001b[0mhist\u001b[0m\u001b[0;34m(\u001b[0m\u001b[0mtrain\u001b[0m\u001b[0;34m[\u001b[0m\u001b[0;34m'label'\u001b[0m\u001b[0;34m]\u001b[0m\u001b[0;34m)\u001b[0m\u001b[0;34m\u001b[0m\u001b[0;34m\u001b[0m\u001b[0m\n\u001b[0m\u001b[1;32m      2\u001b[0m \u001b[0mplt\u001b[0m\u001b[0;34m.\u001b[0m\u001b[0mshow\u001b[0m\u001b[0;34m(\u001b[0m\u001b[0;34m)\u001b[0m\u001b[0;34m\u001b[0m\u001b[0;34m\u001b[0m\u001b[0m\n",
      "\u001b[0;31mNameError\u001b[0m: name 'hist' is not defined"
     ]
    }
   ],
   "source": [
    "data.info()"
   ]
  },
  {
   "cell_type": "markdown",
   "metadata": {},
   "source": [
    "<html>\n",
    "    <div dir = \"rtl\" style = \"font-size: 16px\">\n",
    "        <br>\n",
    "        تابع \n",
    "        info\n",
    "        اطلاعات کلی هر ستون مانند تایپ و تعداد مقادیر موجود را به ما می‌دهد.\n",
    "    </div>\n",
    "</html>"
   ]
  },
  {
   "cell_type": "markdown",
   "metadata": {},
   "source": [
    "<html>\n",
    "    <div dir = \"rtl\" style=\"font-size: 22px; color: green\">\n",
    "        <b>\n",
    "            2) \n",
    "        </b>\n",
    "    </div>\n",
    "</html>"
   ]
  },
  {
   "cell_type": "code",
   "execution_count": 4,
   "metadata": {},
   "outputs": [
    {
     "data": {
      "text/plain": [
       "artist_name          4.980000\n",
       "track_name           0.000000\n",
       "popularity           0.000000\n",
       "acousticness         0.000000\n",
       "danceability         0.000000\n",
       "duration_ms         10.033333\n",
       "energy               0.000000\n",
       "instrumentalness     0.000000\n",
       "key                  0.000000\n",
       "liveness             0.000000\n",
       "loudness             0.000000\n",
       "mode                 0.000000\n",
       "speechiness          0.000000\n",
       "tempo                9.776667\n",
       "valence              0.000000\n",
       "music_genre          0.000000\n",
       "dtype: float64"
      ]
     },
     "execution_count": 4,
     "metadata": {},
     "output_type": "execute_result"
    }
   ],
   "source": [
    "data.apply(lambda col: col.isna().sum() / len(col) * 100)"
   ]
  },
  {
   "cell_type": "markdown",
   "metadata": {},
   "source": [
    "<html>\n",
    "    <div dir = \"rtl\" style=\"font-size: 22px; color: green\">\n",
    "        <b>\n",
    "            3) \n",
    "        </b>\n",
    "    </div>\n",
    "</html>"
   ]
  },
  {
   "cell_type": "code",
   "execution_count": 5,
   "metadata": {},
   "outputs": [
    {
     "data": {
      "text/html": [
       "<div>\n",
       "<style scoped>\n",
       "    .dataframe tbody tr th:only-of-type {\n",
       "        vertical-align: middle;\n",
       "    }\n",
       "\n",
       "    .dataframe tbody tr th {\n",
       "        vertical-align: top;\n",
       "    }\n",
       "\n",
       "    .dataframe thead th {\n",
       "        text-align: right;\n",
       "    }\n",
       "</style>\n",
       "<table border=\"1\" class=\"dataframe\">\n",
       "  <thead>\n",
       "    <tr style=\"text-align: right;\">\n",
       "      <th></th>\n",
       "      <th>artist_name</th>\n",
       "      <th>track_name</th>\n",
       "      <th>popularity</th>\n",
       "      <th>acousticness</th>\n",
       "      <th>danceability</th>\n",
       "      <th>duration_ms</th>\n",
       "      <th>energy</th>\n",
       "      <th>instrumentalness</th>\n",
       "      <th>key</th>\n",
       "      <th>liveness</th>\n",
       "      <th>loudness</th>\n",
       "      <th>mode</th>\n",
       "      <th>speechiness</th>\n",
       "      <th>tempo</th>\n",
       "      <th>valence</th>\n",
       "      <th>music_genre</th>\n",
       "    </tr>\n",
       "  </thead>\n",
       "  <tbody>\n",
       "    <tr>\n",
       "      <th>0</th>\n",
       "      <td>Blockhead</td>\n",
       "      <td>Cheer up, You're Not Dead Yet</td>\n",
       "      <td>44.0</td>\n",
       "      <td>0.00621</td>\n",
       "      <td>0.711</td>\n",
       "      <td>285987.0</td>\n",
       "      <td>0.6210</td>\n",
       "      <td>0.029700</td>\n",
       "      <td>G</td>\n",
       "      <td>0.159</td>\n",
       "      <td>-7.429</td>\n",
       "      <td>Major</td>\n",
       "      <td>0.0382</td>\n",
       "      <td>142.065</td>\n",
       "      <td>0.607</td>\n",
       "      <td>Jazz</td>\n",
       "    </tr>\n",
       "    <tr>\n",
       "      <th>1</th>\n",
       "      <td>FloFilz</td>\n",
       "      <td>Corners</td>\n",
       "      <td>34.0</td>\n",
       "      <td>0.34700</td>\n",
       "      <td>0.729</td>\n",
       "      <td>103703.0</td>\n",
       "      <td>0.5150</td>\n",
       "      <td>0.006920</td>\n",
       "      <td>C</td>\n",
       "      <td>0.127</td>\n",
       "      <td>-10.147</td>\n",
       "      <td>Major</td>\n",
       "      <td>0.1840</td>\n",
       "      <td>79.969</td>\n",
       "      <td>0.287</td>\n",
       "      <td>Jazz</td>\n",
       "    </tr>\n",
       "    <tr>\n",
       "      <th>2</th>\n",
       "      <td>Bonobo</td>\n",
       "      <td>We Could Forever</td>\n",
       "      <td>51.0</td>\n",
       "      <td>0.01810</td>\n",
       "      <td>0.669</td>\n",
       "      <td>NaN</td>\n",
       "      <td>0.8850</td>\n",
       "      <td>0.880000</td>\n",
       "      <td>G</td>\n",
       "      <td>0.265</td>\n",
       "      <td>-7.080</td>\n",
       "      <td>Minor</td>\n",
       "      <td>0.0378</td>\n",
       "      <td>NaN</td>\n",
       "      <td>0.636</td>\n",
       "      <td>Jazz</td>\n",
       "    </tr>\n",
       "    <tr>\n",
       "      <th>3</th>\n",
       "      <td>Nils Landgren</td>\n",
       "      <td>A Child Is Born</td>\n",
       "      <td>39.0</td>\n",
       "      <td>0.91800</td>\n",
       "      <td>0.484</td>\n",
       "      <td>228733.0</td>\n",
       "      <td>0.0693</td>\n",
       "      <td>0.000069</td>\n",
       "      <td>F</td>\n",
       "      <td>0.139</td>\n",
       "      <td>-15.542</td>\n",
       "      <td>Major</td>\n",
       "      <td>0.0346</td>\n",
       "      <td>82.707</td>\n",
       "      <td>0.206</td>\n",
       "      <td>Jazz</td>\n",
       "    </tr>\n",
       "    <tr>\n",
       "      <th>4</th>\n",
       "      <td>Masayoshi Takanaka</td>\n",
       "      <td>Samba Pati</td>\n",
       "      <td>36.0</td>\n",
       "      <td>0.03450</td>\n",
       "      <td>0.473</td>\n",
       "      <td>342867.0</td>\n",
       "      <td>0.8230</td>\n",
       "      <td>0.446000</td>\n",
       "      <td>G</td>\n",
       "      <td>0.306</td>\n",
       "      <td>-6.625</td>\n",
       "      <td>Major</td>\n",
       "      <td>0.0630</td>\n",
       "      <td>104.694</td>\n",
       "      <td>0.383</td>\n",
       "      <td>Jazz</td>\n",
       "    </tr>\n",
       "  </tbody>\n",
       "</table>\n",
       "</div>"
      ],
      "text/plain": [
       "          artist_name                     track_name  popularity  \\\n",
       "0           Blockhead  Cheer up, You're Not Dead Yet        44.0   \n",
       "1             FloFilz                        Corners        34.0   \n",
       "2              Bonobo               We Could Forever        51.0   \n",
       "3       Nils Landgren                A Child Is Born        39.0   \n",
       "4  Masayoshi Takanaka                     Samba Pati        36.0   \n",
       "\n",
       "   acousticness  danceability  duration_ms  energy  instrumentalness key  \\\n",
       "0       0.00621         0.711     285987.0  0.6210          0.029700   G   \n",
       "1       0.34700         0.729     103703.0  0.5150          0.006920   C   \n",
       "2       0.01810         0.669          NaN  0.8850          0.880000   G   \n",
       "3       0.91800         0.484     228733.0  0.0693          0.000069   F   \n",
       "4       0.03450         0.473     342867.0  0.8230          0.446000   G   \n",
       "\n",
       "   liveness  loudness   mode  speechiness    tempo  valence music_genre  \n",
       "0     0.159    -7.429  Major       0.0382  142.065    0.607        Jazz  \n",
       "1     0.127   -10.147  Major       0.1840   79.969    0.287        Jazz  \n",
       "2     0.265    -7.080  Minor       0.0378      NaN    0.636        Jazz  \n",
       "3     0.139   -15.542  Major       0.0346   82.707    0.206        Jazz  \n",
       "4     0.306    -6.625  Major       0.0630  104.694    0.383        Jazz  "
      ]
     },
     "execution_count": 5,
     "metadata": {},
     "output_type": "execute_result"
    }
   ],
   "source": [
    "data.head()"
   ]
  },
  {
   "cell_type": "code",
   "execution_count": 6,
   "metadata": {},
   "outputs": [],
   "source": [
    "# data['artist_name'].value_counts().plot(kind = 'bar')"
   ]
  },
  {
   "cell_type": "code",
   "execution_count": 7,
   "metadata": {},
   "outputs": [],
   "source": [
    "# data['track_name'].value_counts().plot(kind = 'bar')"
   ]
  },
  {
   "cell_type": "code",
   "execution_count": 8,
   "metadata": {},
   "outputs": [
    {
     "data": {
      "text/plain": [
       "(array([ 849.,  191., 1308., 5436., 7563., 8680., 4613., 1215.,  136.,\n",
       "           9.]),\n",
       " array([ 0. ,  9.9, 19.8, 29.7, 39.6, 49.5, 59.4, 69.3, 79.2, 89.1, 99. ]),\n",
       " <BarContainer object of 10 artists>)"
      ]
     },
     "execution_count": 8,
     "metadata": {},
     "output_type": "execute_result"
    },
    {
     "data": {
      "image/png": "[encoded data removed]",
      "text/plain": [
       "<Figure size 432x288 with 1 Axes>"
      ]
     },
     "metadata": {
      "needs_background": "light"
     },
     "output_type": "display_data"
    }
   ],
   "source": [
    "plt.hist(data['popularity'])"
   ]
  },
  {
   "cell_type": "code",
   "execution_count": 9,
   "metadata": {},
   "outputs": [
    {
     "data": {
      "text/plain": [
       "(array([11701.,  3177.,  2146.,  1679.,  1332.,  1172.,  1160.,  1273.,\n",
       "         1481.,  4879.]),\n",
       " array([1.39000000e-06, 9.96012510e-02, 1.99201112e-01, 2.98800973e-01,\n",
       "        3.98400834e-01, 4.98000695e-01, 5.97600556e-01, 6.97200417e-01,\n",
       "        7.96800278e-01, 8.96400139e-01, 9.96000000e-01]),\n",
       " <BarContainer object of 10 artists>)"
      ]
     },
     "execution_count": 9,
     "metadata": {},
     "output_type": "execute_result"
    },
    {
     "data": {
      "image/png": "[encoded data removed]",
      "text/plain": [
       "<Figure size 432x288 with 1 Axes>"
      ]
     },
     "metadata": {
      "needs_background": "light"
     },
     "output_type": "display_data"
    }
   ],
   "source": [
    "plt.hist(data['acousticness'])"
   ]
  },
  {
   "cell_type": "code",
   "execution_count": 10,
   "metadata": {},
   "outputs": [
    {
     "data": {
      "text/plain": [
       "(array([ 706., 1421., 2103., 3422., 4985., 6183., 5306., 3623., 1777.,\n",
       "         474.]),\n",
       " array([0.0596 , 0.15134, 0.24308, 0.33482, 0.42656, 0.5183 , 0.61004,\n",
       "        0.70178, 0.79352, 0.88526, 0.977  ]),\n",
       " <BarContainer object of 10 artists>)"
      ]
     },
     "execution_count": 10,
     "metadata": {},
     "output_type": "execute_result"
    },
    {
     "data": {
      "image/png": "[encoded data removed]",
      "text/plain": [
       "<Figure size 432x288 with 1 Axes>"
      ]
     },
     "metadata": {
      "needs_background": "light"
     },
     "output_type": "display_data"
    }
   ],
   "source": [
    "plt.hist(data['danceability'])"
   ]
  },
  {
   "cell_type": "code",
   "execution_count": 11,
   "metadata": {},
   "outputs": [
    {
     "data": {
      "text/plain": [
       "(array([2.3849e+04, 2.8330e+03, 2.3500e+02, 4.8000e+01, 1.8000e+01,\n",
       "        4.0000e+00, 1.0000e+00, 1.0000e+00, 0.0000e+00, 1.0000e+00]),\n",
       " array([  15509. ,  333502.1,  651495.2,  969488.3, 1287481.4, 1605474.5,\n",
       "        1923467.6, 2241460.7, 2559453.8, 2877446.9, 3195440. ]),\n",
       " <BarContainer object of 10 artists>)"
      ]
     },
     "execution_count": 11,
     "metadata": {},
     "output_type": "execute_result"
    },
    {
     "data": {
      "image/png": "[encoded data removed]",
      "text/plain": [
       "<Figure size 432x288 with 1 Axes>"
      ]
     },
     "metadata": {
      "needs_background": "light"
     },
     "output_type": "display_data"
    }
   ],
   "source": [
    "plt.hist(data['duration_ms'])"
   ]
  },
  {
   "cell_type": "code",
   "execution_count": 12,
   "metadata": {},
   "outputs": [
    {
     "data": {
      "text/plain": [
       "(array([2865., 1845., 1614., 2077., 2885., 3619., 4022., 4101., 4103.,\n",
       "        2869.]),\n",
       " array([7.920000e-04, 1.005128e-01, 2.002336e-01, 2.999544e-01,\n",
       "        3.996752e-01, 4.993960e-01, 5.991168e-01, 6.988376e-01,\n",
       "        7.985584e-01, 8.982792e-01, 9.980000e-01]),\n",
       " <BarContainer object of 10 artists>)"
      ]
     },
     "execution_count": 12,
     "metadata": {},
     "output_type": "execute_result"
    },
    {
     "data": {
      "image/png": "[encoded data removed]",
      "text/plain": [
       "<Figure size 432x288 with 1 Axes>"
      ]
     },
     "metadata": {
      "needs_background": "light"
     },
     "output_type": "display_data"
    }
   ],
   "source": [
    "plt.hist(data['energy'])"
   ]
  },
  {
   "cell_type": "code",
   "execution_count": 13,
   "metadata": {},
   "outputs": [
    {
     "data": {
      "text/plain": [
       "(array([22248.,   737.,   446.,   390.,   367.,   418.,   486.,   753.,\n",
       "         2005.,  2150.]),\n",
       " array([0.    , 0.0994, 0.1988, 0.2982, 0.3976, 0.497 , 0.5964, 0.6958,\n",
       "        0.7952, 0.8946, 0.994 ]),\n",
       " <BarContainer object of 10 artists>)"
      ]
     },
     "execution_count": 13,
     "metadata": {},
     "output_type": "execute_result"
    },
    {
     "data": {
      "image/png": "[encoded data removed]",
      "text/plain": [
       "<Figure size 432x288 with 1 Axes>"
      ]
     },
     "metadata": {
      "needs_background": "light"
     },
     "output_type": "display_data"
    }
   ],
   "source": [
    "plt.hist(data['instrumentalness'])"
   ]
  },
  {
   "cell_type": "code",
   "execution_count": 14,
   "metadata": {},
   "outputs": [
    {
     "data": {
      "text/plain": [
       "<AxesSubplot:>"
      ]
     },
     "execution_count": 14,
     "metadata": {},
     "output_type": "execute_result"
    },
    {
     "data": {
      "image/png": "[encoded data removed]",
      "text/plain": [
       "<Figure size 432x288 with 1 Axes>"
      ]
     },
     "metadata": {
      "needs_background": "light"
     },
     "output_type": "display_data"
    }
   ],
   "source": [
    "data['key'].value_counts().plot(kind = 'bar')"
   ]
  },
  {
   "cell_type": "code",
   "execution_count": 15,
   "metadata": {},
   "outputs": [
    {
     "data": {
      "text/plain": [
       "(array([13135.,  8962.,  3259.,  2556.,   642.,   406.,   475.,   276.,\n",
       "          126.,   163.]),\n",
       " array([0.0157 , 0.11373, 0.21176, 0.30979, 0.40782, 0.50585, 0.60388,\n",
       "        0.70191, 0.79994, 0.89797, 0.996  ]),\n",
       " <BarContainer object of 10 artists>)"
      ]
     },
     "execution_count": 15,
     "metadata": {},
     "output_type": "execute_result"
    },
    {
     "data": {
      "image/png": "[encoded data removed]",
      "text/plain": [
       "<Figure size 432x288 with 1 Axes>"
      ]
     },
     "metadata": {
      "needs_background": "light"
     },
     "output_type": "display_data"
    }
   ],
   "source": [
    "plt.hist(data['liveness'])"
   ]
  },
  {
   "cell_type": "code",
   "execution_count": 16,
   "metadata": {},
   "outputs": [
    {
     "data": {
      "text/plain": [
       "(array([1.4000e+01, 8.6000e+01, 2.5600e+02, 6.7600e+02, 1.3050e+03,\n",
       "        1.7350e+03, 2.4820e+03, 6.6470e+03, 1.5362e+04, 1.4370e+03]),\n",
       " array([-47.046 , -42.2072, -37.3684, -32.5296, -27.6908, -22.852 ,\n",
       "        -18.0132, -13.1744,  -8.3356,  -3.4968,   1.342 ]),\n",
       " <BarContainer object of 10 artists>)"
      ]
     },
     "execution_count": 16,
     "metadata": {},
     "output_type": "execute_result"
    },
    {
     "data": {
      "image/png": "[encoded data removed]",
      "text/plain": [
       "<Figure size 432x288 with 1 Axes>"
      ]
     },
     "metadata": {
      "needs_background": "light"
     },
     "output_type": "display_data"
    }
   ],
   "source": [
    "plt.hist(data['loudness'])"
   ]
  },
  {
   "cell_type": "code",
   "execution_count": 17,
   "metadata": {},
   "outputs": [
    {
     "data": {
      "text/plain": [
       "<AxesSubplot:>"
      ]
     },
     "execution_count": 17,
     "metadata": {},
     "output_type": "execute_result"
    },
    {
     "data": {
      "image/png": "[encoded data removed]",
      "text/plain": [
       "<Figure size 432x288 with 1 Axes>"
      ]
     },
     "metadata": {
      "needs_background": "light"
     },
     "output_type": "display_data"
    }
   ],
   "source": [
    "data['mode'].value_counts().plot(kind = 'bar')"
   ]
  },
  {
   "cell_type": "code",
   "execution_count": 18,
   "metadata": {},
   "outputs": [
    {
     "data": {
      "text/plain": [
       "(array([2.4542e+04, 2.3170e+03, 1.5620e+03, 1.0030e+03, 3.7900e+02,\n",
       "        1.3000e+02, 3.0000e+01, 1.9000e+01, 8.0000e+00, 1.0000e+01]),\n",
       " array([0.0223 , 0.11417, 0.20604, 0.29791, 0.38978, 0.48165, 0.57352,\n",
       "        0.66539, 0.75726, 0.84913, 0.941  ]),\n",
       " <BarContainer object of 10 artists>)"
      ]
     },
     "execution_count": 18,
     "metadata": {},
     "output_type": "execute_result"
    },
    {
     "data": {
      "image/png": "[encoded data removed]",
      "text/plain": [
       "<Figure size 432x288 with 1 Axes>"
      ]
     },
     "metadata": {
      "needs_background": "light"
     },
     "output_type": "display_data"
    }
   ],
   "source": [
    "plt.hist(data['speechiness'])"
   ]
  },
  {
   "cell_type": "code",
   "execution_count": 19,
   "metadata": {},
   "outputs": [
    {
     "data": {
      "text/plain": [
       "(array([  40.,  795., 4827., 6020., 5129., 5112., 2704., 1892.,  451.,\n",
       "          97.]),\n",
       " array([ 34.347 ,  52.8454,  71.3438,  89.8422, 108.3406, 126.839 ,\n",
       "        145.3374, 163.8358, 182.3342, 200.8326, 219.331 ]),\n",
       " <BarContainer object of 10 artists>)"
      ]
     },
     "execution_count": 19,
     "metadata": {},
     "output_type": "execute_result"
    },
    {
     "data": {
      "image/png": "[encoded data removed]",
      "text/plain": [
       "<Figure size 432x288 with 1 Axes>"
      ]
     },
     "metadata": {
      "needs_background": "light"
     },
     "output_type": "display_data"
    }
   ],
   "source": [
    "plt.hist(data['tempo'])"
   ]
  },
  {
   "cell_type": "code",
   "execution_count": 20,
   "metadata": {},
   "outputs": [
    {
     "data": {
      "text/plain": [
       "(array([2674., 3180., 3538., 4075., 3735., 3671., 3262., 2672., 1926.,\n",
       "        1267.]),\n",
       " array([0.    , 0.0985, 0.197 , 0.2955, 0.394 , 0.4925, 0.591 , 0.6895,\n",
       "        0.788 , 0.8865, 0.985 ]),\n",
       " <BarContainer object of 10 artists>)"
      ]
     },
     "execution_count": 20,
     "metadata": {},
     "output_type": "execute_result"
    },
    {
     "data": {
      "image/png": "[encoded data removed]",
      "text/plain": [
       "<Figure size 432x288 with 1 Axes>"
      ]
     },
     "metadata": {
      "needs_background": "light"
     },
     "output_type": "display_data"
    }
   ],
   "source": [
    "plt.hist(data['valence'])"
   ]
  },
  {
   "cell_type": "code",
   "execution_count": 21,
   "metadata": {},
   "outputs": [
    {
     "data": {
      "text/plain": [
       "<AxesSubplot:>"
      ]
     },
     "execution_count": 21,
     "metadata": {},
     "output_type": "execute_result"
    },
    {
     "data": {
      "image/png": "[encoded data removed]",
      "text/plain": [
       "<Figure size 432x288 with 1 Axes>"
      ]
     },
     "metadata": {
      "needs_background": "light"
     },
     "output_type": "display_data"
    }
   ],
   "source": [
    "data['music_genre'].value_counts().plot(kind = 'bar')"
   ]
  },
  {
   "cell_type": "markdown",
   "metadata": {},
   "source": [
    "<html>\n",
    "    <div dir = \"rtl\" style = \"font-size: 16px\">\n",
    "        <br>\n",
    "        اکثر داده ها توزیع نرمال دارند، ولی برخی چولگی زیادی دارند.\n",
    "        <br>\n",
    "    </div>\n",
    "</html>"
   ]
  },
  {
   "cell_type": "markdown",
   "metadata": {},
   "source": [
    "<html>\n",
    "    <div dir = \"rtl\" style=\"font-size: 24px; color: orange\">\n",
    "        <b>\n",
    "            فاز اول: \n",
    "            Preprocessing\n",
    "        </b>\n",
    "    </div>\n",
    "</html>"
   ]
  },
  {
   "cell_type": "markdown",
   "metadata": {},
   "source": [
    "<html>\n",
    "    <div dir = \"rtl\" style=\"font-size: 22px; color: green\">\n",
    "        <b>\n",
    "            1)\n",
    "        </b>\n",
    "    </div>\n",
    "    <div dir = \"rtl\" style = \"font-size: 16px\">\n",
    "        <br>\n",
    "        ۱.\n",
    "       حذف دیتا هایی که شامل مقدار\n",
    "        NAN\n",
    "        هستند.\n",
    "          <br>\n",
    "        مزیت: این روش بسیار سریع و آسان است\n",
    "        <br>\n",
    "        ایراد: ممکن است دیتاهایی که حذف می‌شوند شامل اطلاعات مهمی باشند و همچنین ممکن است داده های زیادی حذف شوند.\n",
    "        <br><br>\n",
    "        2.\n",
    "        پر کردن خانه های \n",
    "        NAN\n",
    "        با میانگین، میانه، مود و دیگر داده های آماری\n",
    "        <br>\n",
    "        مزیت: در این متد هیچ دیتایی از دست نمی‌رود\n",
    "        <br>\n",
    "        ایراد: اگر یک ستون مقدار زیادی \n",
    "        NAN\n",
    "        داشته باشد، دیتای بی معنی زیادی به وجود می‌آید.\n",
    "        <br>\n",
    "    </div>\n",
    "</html>"
   ]
  },
  {
   "cell_type": "markdown",
   "metadata": {},
   "source": [
    "<html>\n",
    "    <div dir = \"rtl\" style=\"font-size: 22px; color: green\">\n",
    "        <b>\n",
    "            ۲)\n",
    "        </b>\n",
    "    </div>\n",
    "    <div dir = \"rtl\" style = \"font-size: 16px\">\n",
    "        <br>\n",
    "        به جای داده های \n",
    "        NAN\n",
    "        از مود(دیتا با بیشترین تکرار استفاده می‌کنیم)\n",
    "        <br>\n",
    "    </div>\n",
    "</html>"
   ]
  },
  {
   "cell_type": "code",
   "execution_count": 22,
   "metadata": {},
   "outputs": [
    {
     "data": {
      "text/plain": [
       "artist_name         None\n",
       "track_name          None\n",
       "popularity          None\n",
       "acousticness        None\n",
       "danceability        None\n",
       "duration_ms         None\n",
       "energy              None\n",
       "instrumentalness    None\n",
       "key                 None\n",
       "liveness            None\n",
       "loudness            None\n",
       "mode                None\n",
       "speechiness         None\n",
       "tempo               None\n",
       "valence             None\n",
       "music_genre         None\n",
       "dtype: object"
      ]
     },
     "execution_count": 22,
     "metadata": {},
     "output_type": "execute_result"
    }
   ],
   "source": [
    "data.apply(lambda col: col.fillna(col.mode()[0], inplace = True))"
   ]
  },
  {
   "cell_type": "markdown",
   "metadata": {},
   "source": [
    "<html>\n",
    "    <div dir = \"rtl\" style=\"font-size: 22px; color: green\">\n",
    "        <b>\n",
    "            3)\n",
    "        </b>\n",
    "    </div>\n",
    "    <div dir = \"rtl\" style = \"font-size: 16px\">\n",
    "        <br>\n",
    "       Normalize:\n",
    "        این متد متغیر های عددی را به یک عدد بین ۰ و ۱ تبدیل می‌کند که معادله این تبدیل برابر است با:\n",
    "        $$ x_{new} = \\frac{x_{old} - x_{min}}{x_{max} - x_{min}}$$\n",
    "        <br>\n",
    "        Standardization:\n",
    "        در این متد متغیر ها به شکلی تغییر می‌کنند که میانگین آن ها برار ۰ و انحراف معیارشان برابر ۱ باشد.\n",
    "        $$x_{new} = \\frac{x_{old} - \\mu}{\\sigma}$$\n",
    "        <br>\n",
    "    </div>\n",
    "</html>"
   ]
  },
  {
   "cell_type": "markdown",
   "metadata": {},
   "source": [
    "<html>\n",
    "    <div dir = \"rtl\" style=\"font-size: 22px; color: green\">\n",
    "        <b>\n",
    "            4)\n",
    "        </b>\n",
    "    </div>\n",
    "    <div dir = \"rtl\" style = \"font-size: 16px\">\n",
    "        <br>\n",
    "       با توجه به اینکه داده ها تقریبا توزیع نرمال دارند از متد\n",
    "        Sandardization\n",
    "        استفاده می‌کنیم چون با این کار دیتای ما تبدیل به توزیع نرمال استانداد می‌شود و بیشتر مقادیر به صورت خودکار میان -۱و۱ قرار می‌گیرند.\n",
    "        <br>\n",
    "    </div>\n",
    "</html>"
   ]
  },
  {
   "cell_type": "code",
   "execution_count": 23,
   "metadata": {},
   "outputs": [
    {
     "data": {
      "text/html": [
       "<div>\n",
       "<style scoped>\n",
       "    .dataframe tbody tr th:only-of-type {\n",
       "        vertical-align: middle;\n",
       "    }\n",
       "\n",
       "    .dataframe tbody tr th {\n",
       "        vertical-align: top;\n",
       "    }\n",
       "\n",
       "    .dataframe thead th {\n",
       "        text-align: right;\n",
       "    }\n",
       "</style>\n",
       "<table border=\"1\" class=\"dataframe\">\n",
       "  <thead>\n",
       "    <tr style=\"text-align: right;\">\n",
       "      <th></th>\n",
       "      <th>artist_name</th>\n",
       "      <th>track_name</th>\n",
       "      <th>popularity</th>\n",
       "      <th>acousticness</th>\n",
       "      <th>danceability</th>\n",
       "      <th>duration_ms</th>\n",
       "      <th>energy</th>\n",
       "      <th>instrumentalness</th>\n",
       "      <th>key</th>\n",
       "      <th>liveness</th>\n",
       "      <th>loudness</th>\n",
       "      <th>mode</th>\n",
       "      <th>speechiness</th>\n",
       "      <th>tempo</th>\n",
       "      <th>valence</th>\n",
       "      <th>music_genre</th>\n",
       "    </tr>\n",
       "  </thead>\n",
       "  <tbody>\n",
       "    <tr>\n",
       "      <th>0</th>\n",
       "      <td>Blockhead</td>\n",
       "      <td>Cheer up, You're Not Dead Yet</td>\n",
       "      <td>-0.259741</td>\n",
       "      <td>-0.970532</td>\n",
       "      <td>0.935904</td>\n",
       "      <td>0.423583</td>\n",
       "      <td>0.231381</td>\n",
       "      <td>-0.458783</td>\n",
       "      <td>G</td>\n",
       "      <td>-0.163272</td>\n",
       "      <td>0.381203</td>\n",
       "      <td>Major</td>\n",
       "      <td>-0.489052</td>\n",
       "      <td>0.831331</td>\n",
       "      <td>0.644987</td>\n",
       "      <td>Jazz</td>\n",
       "    </tr>\n",
       "    <tr>\n",
       "      <th>1</th>\n",
       "      <td>FloFilz</td>\n",
       "      <td>Corners</td>\n",
       "      <td>-0.948794</td>\n",
       "      <td>-0.034765</td>\n",
       "      <td>1.034959</td>\n",
       "      <td>-1.253933</td>\n",
       "      <td>-0.150111</td>\n",
       "      <td>-0.527946</td>\n",
       "      <td>C</td>\n",
       "      <td>-0.375567</td>\n",
       "      <td>-0.009655</td>\n",
       "      <td>Major</td>\n",
       "      <td>1.072549</td>\n",
       "      <td>-1.296071</td>\n",
       "      <td>-0.641471</td>\n",
       "      <td>Jazz</td>\n",
       "    </tr>\n",
       "    <tr>\n",
       "      <th>2</th>\n",
       "      <td>Bonobo</td>\n",
       "      <td>We Could Forever</td>\n",
       "      <td>0.222596</td>\n",
       "      <td>-0.937884</td>\n",
       "      <td>0.704778</td>\n",
       "      <td>-0.551790</td>\n",
       "      <td>1.181513</td>\n",
       "      <td>2.122853</td>\n",
       "      <td>G</td>\n",
       "      <td>0.539958</td>\n",
       "      <td>0.431391</td>\n",
       "      <td>Minor</td>\n",
       "      <td>-0.493336</td>\n",
       "      <td>0.075798</td>\n",
       "      <td>0.761572</td>\n",
       "      <td>Jazz</td>\n",
       "    </tr>\n",
       "    <tr>\n",
       "      <th>3</th>\n",
       "      <td>Nils Landgren</td>\n",
       "      <td>A Child Is Born</td>\n",
       "      <td>-0.604268</td>\n",
       "      <td>1.533131</td>\n",
       "      <td>-0.313279</td>\n",
       "      <td>-0.103312</td>\n",
       "      <td>-1.754179</td>\n",
       "      <td>-0.548746</td>\n",
       "      <td>F</td>\n",
       "      <td>-0.295956</td>\n",
       "      <td>-0.785474</td>\n",
       "      <td>Major</td>\n",
       "      <td>-0.527610</td>\n",
       "      <td>-1.202267</td>\n",
       "      <td>-0.967105</td>\n",
       "      <td>Jazz</td>\n",
       "    </tr>\n",
       "    <tr>\n",
       "      <th>4</th>\n",
       "      <td>Masayoshi Takanaka</td>\n",
       "      <td>Samba Pati</td>\n",
       "      <td>-0.810984</td>\n",
       "      <td>-0.892852</td>\n",
       "      <td>-0.373812</td>\n",
       "      <td>0.947036</td>\n",
       "      <td>0.958376</td>\n",
       "      <td>0.805165</td>\n",
       "      <td>G</td>\n",
       "      <td>0.811962</td>\n",
       "      <td>0.496821</td>\n",
       "      <td>Major</td>\n",
       "      <td>-0.223430</td>\n",
       "      <td>-0.448995</td>\n",
       "      <td>-0.255534</td>\n",
       "      <td>Jazz</td>\n",
       "    </tr>\n",
       "    <tr>\n",
       "      <th>...</th>\n",
       "      <td>...</td>\n",
       "      <td>...</td>\n",
       "      <td>...</td>\n",
       "      <td>...</td>\n",
       "      <td>...</td>\n",
       "      <td>...</td>\n",
       "      <td>...</td>\n",
       "      <td>...</td>\n",
       "      <td>...</td>\n",
       "      <td>...</td>\n",
       "      <td>...</td>\n",
       "      <td>...</td>\n",
       "      <td>...</td>\n",
       "      <td>...</td>\n",
       "      <td>...</td>\n",
       "      <td>...</td>\n",
       "    </tr>\n",
       "    <tr>\n",
       "      <th>29995</th>\n",
       "      <td>Wolfgang Amadeus Mozart</td>\n",
       "      <td>Die Zauberflöte, K. 620: Wie stark ist nicht d...</td>\n",
       "      <td>-1.775658</td>\n",
       "      <td>1.513910</td>\n",
       "      <td>-1.182754</td>\n",
       "      <td>1.184218</td>\n",
       "      <td>-1.524924</td>\n",
       "      <td>-0.548956</td>\n",
       "      <td>G</td>\n",
       "      <td>-0.355665</td>\n",
       "      <td>-1.497445</td>\n",
       "      <td>Major</td>\n",
       "      <td>-0.301617</td>\n",
       "      <td>-0.880807</td>\n",
       "      <td>-0.967105</td>\n",
       "      <td>Classical</td>\n",
       "    </tr>\n",
       "    <tr>\n",
       "      <th>29996</th>\n",
       "      <td>New York Philharmonic</td>\n",
       "      <td>Symphony No. 2 in D Major, Op. 73: II. Adagio ...</td>\n",
       "      <td>-1.500037</td>\n",
       "      <td>1.662188</td>\n",
       "      <td>-2.283356</td>\n",
       "      <td>2.523892</td>\n",
       "      <td>-1.269396</td>\n",
       "      <td>2.089455</td>\n",
       "      <td>B</td>\n",
       "      <td>-0.514887</td>\n",
       "      <td>-0.919499</td>\n",
       "      <td>Major</td>\n",
       "      <td>-0.475128</td>\n",
       "      <td>-1.211517</td>\n",
       "      <td>-1.639681</td>\n",
       "      <td>Classical</td>\n",
       "    </tr>\n",
       "    <tr>\n",
       "      <th>29997</th>\n",
       "      <td>Georges Bizet</td>\n",
       "      <td>Bizet: Carmen, WD 31, Act 1 Scene 4: No. 5, Ha...</td>\n",
       "      <td>0.429312</td>\n",
       "      <td>1.692392</td>\n",
       "      <td>-0.979143</td>\n",
       "      <td>0.204189</td>\n",
       "      <td>-1.589705</td>\n",
       "      <td>-0.548956</td>\n",
       "      <td>D</td>\n",
       "      <td>-0.559999</td>\n",
       "      <td>-1.041876</td>\n",
       "      <td>Major</td>\n",
       "      <td>-0.160237</td>\n",
       "      <td>0.075798</td>\n",
       "      <td>-0.866601</td>\n",
       "      <td>Classical</td>\n",
       "    </tr>\n",
       "    <tr>\n",
       "      <th>29998</th>\n",
       "      <td>Edvard Grieg</td>\n",
       "      <td>Peer Gynt-Suite Nr. 1, Op. 46: I. Morning</td>\n",
       "      <td>-0.397552</td>\n",
       "      <td>1.717105</td>\n",
       "      <td>-2.299865</td>\n",
       "      <td>0.180501</td>\n",
       "      <td>-1.940966</td>\n",
       "      <td>2.201793</td>\n",
       "      <td>E</td>\n",
       "      <td>-0.388836</td>\n",
       "      <td>-1.954453</td>\n",
       "      <td>Major</td>\n",
       "      <td>-0.461204</td>\n",
       "      <td>-1.579194</td>\n",
       "      <td>-1.653752</td>\n",
       "      <td>Classical</td>\n",
       "    </tr>\n",
       "    <tr>\n",
       "      <th>29999</th>\n",
       "      <td>Johann Sebastian Bach</td>\n",
       "      <td>Suite No. 2 in B Minor, BWV 1067: VI. Menuet</td>\n",
       "      <td>-0.810984</td>\n",
       "      <td>1.132233</td>\n",
       "      <td>-0.302273</td>\n",
       "      <td>-1.521761</td>\n",
       "      <td>-1.438548</td>\n",
       "      <td>2.201793</td>\n",
       "      <td>G#</td>\n",
       "      <td>-0.242883</td>\n",
       "      <td>-1.293963</td>\n",
       "      <td>Minor</td>\n",
       "      <td>-0.496549</td>\n",
       "      <td>0.237676</td>\n",
       "      <td>0.693229</td>\n",
       "      <td>Classical</td>\n",
       "    </tr>\n",
       "  </tbody>\n",
       "</table>\n",
       "<p>30000 rows × 16 columns</p>\n",
       "</div>"
      ],
      "text/plain": [
       "                   artist_name  \\\n",
       "0                    Blockhead   \n",
       "1                      FloFilz   \n",
       "2                       Bonobo   \n",
       "3                Nils Landgren   \n",
       "4           Masayoshi Takanaka   \n",
       "...                        ...   \n",
       "29995  Wolfgang Amadeus Mozart   \n",
       "29996    New York Philharmonic   \n",
       "29997            Georges Bizet   \n",
       "29998             Edvard Grieg   \n",
       "29999    Johann Sebastian Bach   \n",
       "\n",
       "                                              track_name  popularity  \\\n",
       "0                          Cheer up, You're Not Dead Yet   -0.259741   \n",
       "1                                                Corners   -0.948794   \n",
       "2                                       We Could Forever    0.222596   \n",
       "3                                        A Child Is Born   -0.604268   \n",
       "4                                             Samba Pati   -0.810984   \n",
       "...                                                  ...         ...   \n",
       "29995  Die Zauberflöte, K. 620: Wie stark ist nicht d...   -1.775658   \n",
       "29996  Symphony No. 2 in D Major, Op. 73: II. Adagio ...   -1.500037   \n",
       "29997  Bizet: Carmen, WD 31, Act 1 Scene 4: No. 5, Ha...    0.429312   \n",
       "29998          Peer Gynt-Suite Nr. 1, Op. 46: I. Morning   -0.397552   \n",
       "29999       Suite No. 2 in B Minor, BWV 1067: VI. Menuet   -0.810984   \n",
       "\n",
       "       acousticness  danceability  duration_ms    energy  instrumentalness  \\\n",
       "0         -0.970532      0.935904     0.423583  0.231381         -0.458783   \n",
       "1         -0.034765      1.034959    -1.253933 -0.150111         -0.527946   \n",
       "2         -0.937884      0.704778    -0.551790  1.181513          2.122853   \n",
       "3          1.533131     -0.313279    -0.103312 -1.754179         -0.548746   \n",
       "4         -0.892852     -0.373812     0.947036  0.958376          0.805165   \n",
       "...             ...           ...          ...       ...               ...   \n",
       "29995      1.513910     -1.182754     1.184218 -1.524924         -0.548956   \n",
       "29996      1.662188     -2.283356     2.523892 -1.269396          2.089455   \n",
       "29997      1.692392     -0.979143     0.204189 -1.589705         -0.548956   \n",
       "29998      1.717105     -2.299865     0.180501 -1.940966          2.201793   \n",
       "29999      1.132233     -0.302273    -1.521761 -1.438548          2.201793   \n",
       "\n",
       "      key  liveness  loudness   mode  speechiness     tempo   valence  \\\n",
       "0       G -0.163272  0.381203  Major    -0.489052  0.831331  0.644987   \n",
       "1       C -0.375567 -0.009655  Major     1.072549 -1.296071 -0.641471   \n",
       "2       G  0.539958  0.431391  Minor    -0.493336  0.075798  0.761572   \n",
       "3       F -0.295956 -0.785474  Major    -0.527610 -1.202267 -0.967105   \n",
       "4       G  0.811962  0.496821  Major    -0.223430 -0.448995 -0.255534   \n",
       "...    ..       ...       ...    ...          ...       ...       ...   \n",
       "29995   G -0.355665 -1.497445  Major    -0.301617 -0.880807 -0.967105   \n",
       "29996   B -0.514887 -0.919499  Major    -0.475128 -1.211517 -1.639681   \n",
       "29997   D -0.559999 -1.041876  Major    -0.160237  0.075798 -0.866601   \n",
       "29998   E -0.388836 -1.954453  Major    -0.461204 -1.579194 -1.653752   \n",
       "29999  G# -0.242883 -1.293963  Minor    -0.496549  0.237676  0.693229   \n",
       "\n",
       "      music_genre  \n",
       "0            Jazz  \n",
       "1            Jazz  \n",
       "2            Jazz  \n",
       "3            Jazz  \n",
       "4            Jazz  \n",
       "...           ...  \n",
       "29995   Classical  \n",
       "29996   Classical  \n",
       "29997   Classical  \n",
       "29998   Classical  \n",
       "29999   Classical  \n",
       "\n",
       "[30000 rows x 16 columns]"
      ]
     },
     "execution_count": 23,
     "metadata": {},
     "output_type": "execute_result"
    }
   ],
   "source": [
    "data = data.apply(lambda col : col if isinstance(col[0], str) else (col - col.mean()) / col.std())\n",
    "data"
   ]
  },
  {
   "cell_type": "markdown",
   "metadata": {},
   "source": [
    "<html>\n",
    "    <div dir = \"rtl\" style=\"font-size: 22px; color: green\">\n",
    "        <b>\n",
    "            5)\n",
    "        </b>\n",
    "    </div>\n",
    "    <div dir = \"rtl\" style = \"font-size: 16px\">\n",
    "        <br>\n",
    "       ۱. Label Encoding or Ordinal Encoding:\n",
    "        در این روش به هر دسته یک عدد نسبت داده می‌شود، این متد بیشتر در داده هایی استفاده میشود که دسته ها در آن ترتیب دارند.\n",
    "        <br>\n",
    "        ۲. One Hot Encoding:\n",
    "        فرض کنید یک ستون شامل داده دسته ای است که می‌تواند شامل \n",
    "        x\n",
    "        مقدار مختلف باشد.\n",
    "        <br>\n",
    "        در این روش این ستون داده را حذف کرده و \n",
    "        x\n",
    "        ستون اضافه می‌کنیم و اگر در ستون اصلی این متغیر شامل دسته ی iام \n",
    "        بود در خانه ی مربوط به این داده و ستون \n",
    "        iام \n",
    "        که جدید اضافه شده، ۱ می‌گذاریم و باقی خانه های مربوط به این دیتا در ستون های اضافه شده ۰ قرار می‌دهیم.\n",
    "        <br><br>\n",
    "        من از متد اول استفاده می‌کنم چون متد دوم در داده های دسته ای که می‌توانند مقادیر مختلف زیادی داشته باشند(مانند ستون اول و دوم دیتای ما) بسیار بد عمل می‌کند و همچنین متد اول هم سربع تر است و هم فضای  کمتری اشغال می‌کند\n",
    "        <br>\n",
    "    </div>\n",
    "</html>"
   ]
  },
  {
   "cell_type": "code",
   "execution_count": 24,
   "metadata": {},
   "outputs": [],
   "source": [
    "tmp = data['music_genre']\n",
    "data = data.apply(lambda col : col.astype('category').cat.codes if isinstance(col[0], str) else col)\n",
    "data['music_genre'] = tmp\n",
    "data['music_genre'] = data['music_genre'].astype('category')"
   ]
  },
  {
   "cell_type": "markdown",
   "metadata": {},
   "source": [
    "<html>\n",
    "    <div dir = \"rtl\" style=\"font-size: 22px; color: green\">\n",
    "        <b>\n",
    "            6)\n",
    "        </b>\n",
    "    </div>\n",
    "    <div dir = \"rtl\" style = \"font-size: 16px\">\n",
    "        <br>\n",
    "       چون این ستون داده مقادیر مختلف بسیار زیادی دارد، نمی‌توان \n",
    "        از\n",
    "        One Hot Encoding\n",
    "        استفاده کرد، ولی می‌توان از \n",
    "        Label Encoding\n",
    "        استفاده کرد\n",
    "        <br>\n",
    "    </div>\n",
    "</html>"
   ]
  },
  {
   "cell_type": "markdown",
   "metadata": {},
   "source": [
    "<html>\n",
    "    <div dir = \"rtl\" style=\"font-size: 22px; color: green\">\n",
    "        <b>\n",
    "            7)\n",
    "        </b>\n",
    "    </div>\n",
    "</html>"
   ]
  },
  {
   "cell_type": "code",
   "execution_count": 25,
   "metadata": {},
   "outputs": [
    {
     "data": {
      "text/plain": [
       "<BarContainer object of 15 artists>"
      ]
     },
     "execution_count": 25,
     "metadata": {},
     "output_type": "execute_result"
    },
    {
     "data": {
      "image/png": "[encoded data removed]",
      "text/plain": [
       "<Figure size 5040x1440 with 1 Axes>"
      ]
     },
     "metadata": {
      "needs_background": "light"
     },
     "output_type": "display_data"
    }
   ],
   "source": [
    "fig = plt.figure(figsize = (70, 20))\n",
    "cp = copy.deepcopy(data)\n",
    "cp = cp.iloc[: , :-1]\n",
    "info = sklearn.feature_selection.mutual_info_classif(cp, data['music_genre'])\n",
    "plt.bar(cp.columns, info)"
   ]
  },
  {
   "cell_type": "markdown",
   "metadata": {},
   "source": [
    "<html>\n",
    "    <div dir = \"rtl\" style=\"font-size: 22px; color: green\">\n",
    "        <b>\n",
    "            8)\n",
    "        </b>\n",
    "    </div>\n",
    "    <div dir = \"rtl\" style = \"font-size: 16px\">\n",
    "        <br>\n",
    "       اولین ویژگی یعنی نام خواننده با توجه به \n",
    "        information gain\n",
    "        بالایی که دارد در پیش‌بینی ژانر موسیقی مفید تر از بقیه است \n",
    "        ولی متغیر هایی مثل\n",
    "        mode, liveness, key, ...\n",
    "        از میان متغیر های دیگر \n",
    "        information gain \n",
    "        خیلی کمی دارند و می‌تواند حذفشان کرد.\n",
    "        <br>\n",
    "        مزیت حذف کردن: این کار هم مدل را ساده تر و هم سریع تر می‌کند و همچنین ممکن است حذف نکردن این ویژگی ها خطای ما را افزایش دهند و باعث\n",
    "        overfitting\n",
    "        شوند.\n",
    "        <br>\n",
    "        معایب حذف کردن:\n",
    "        این ویژگی ها ممکن است به تنهایی سود نداشته باشند و حتی باعث \n",
    "        overfitting\n",
    "        شوند ولی ممکن است ترکیب این ویژگی ها اطلاعات مفیدی برای ما داشته باشد و با حذف همه ی این ویژگی ها ما این اطلاعات را از دست بدهیم.\n",
    "        <br>\n",
    "        ما 10 داده را حذف می‌کنیم .\n",
    "    </div>\n",
    "</html>"
   ]
  },
  {
   "cell_type": "code",
   "execution_count": 26,
   "metadata": {},
   "outputs": [],
   "source": [
    "real_data = copy.deepcopy(data)"
   ]
  },
  {
   "cell_type": "markdown",
   "metadata": {},
   "source": [
    "<html>\n",
    "    <div dir = \"rtl\" style=\"font-size: 24px; color: orange\">\n",
    "        <b>\n",
    "            فاز اول: \n",
    "            Model Training, Evaluation and Hyper Parameter Tuning\n",
    "        </b>\n",
    "    </div>\n",
    "</html>"
   ]
  },
  {
   "cell_type": "markdown",
   "metadata": {},
   "source": [
    "<html>\n",
    "    <div dir = \"rtl\" style=\"font-size: 22px; color: green\">\n",
    "        <b>\n",
    "            1)\n",
    "        </b>\n",
    "    </div>\n",
    "    <div dir = \"rtl\" style = \"font-size: 16px\">\n",
    "        <br>\n",
    "       مقدار \n",
    "        p\n",
    "        را برابر 10 در نظر می‌گیریم.\n",
    "        <br><br>\n",
    "        بلی داده ها باید به صورت اتفاقی تقسیم شوند، چون در غیر این صورت مثلا اگر ۱۰ درصد داده اول را برای داده تست انتخاب کنیم، در این صورت تمام تست دیتای ما موسیقی جاز هستند و ما نمیتوانیم به درستی مدل خود را ارزیابی کنیم زیرا هیچ داده ی دیگری از ژانر های دیگر برای تست کردن نداریم.\n",
    "        <br><br>\n",
    "        بهتر است که نسبت ژانر ها به کل در هر دو داده ی تست و هم ترین برابر باشد.\n",
    "        <br>\n",
    "        برابر بودن این نسبت در داده ترین باعث می‌شود که مدل آموزش دیده ی ما بایاس نداشته باشد، به عبارت دیگر اگر از یک ژانر تعداد زیادی داده در ترین دیتا داشته باشیم و از ژانر دیگه ای مقدار کمی دیتا داشته باشیم، پیشبینی های ما بایاس دار می‌شوند و بیشتر به سمت ژانری می‌روند که سمپل های زیادی از آن دیده ایم و کمتر ژانری را پیش‌بینی می‌کند که دیتای کمی از آن دیده.\n",
    "        <br>\n",
    "        برابر بودن این نسبت در تست دیتا باعث می‌شود که ما به درستی بتوانیم مدل خود را ارزیابی کنیم، چون کم بودن دیتا از یک ژانر خاص باعث می‌شود ما نتوانیم به درستی قدرت مدل خود را در پیشبینی این ژانر را ارزیابی کنیم.\n",
    "        <br><br>\n",
    "        متغیر \n",
    "        stratify\n",
    "        در تابع \n",
    "        train_test_split\n",
    "        یک آرایه است که به صورت پیشفرض \n",
    "        None\n",
    "        است و اگر \n",
    "        None\n",
    "        نباشد، دیتا بر اساس این آرایه تقسیم می‌شود.\n",
    "    </div>\n",
    "</html>"
   ]
  },
  {
   "cell_type": "markdown",
   "metadata": {},
   "source": [
    "<html>\n",
    "    <div dir = \"rtl\" style=\"font-size: 22px; color: green\">\n",
    "        <b>\n",
    "            2)\n",
    "        </b>\n",
    "    </div>\n",
    "</html>"
   ]
  },
  {
   "cell_type": "code",
   "execution_count": 27,
   "metadata": {},
   "outputs": [],
   "source": [
    "data = copy.deepcopy(real_data)\n",
    "del data['mode']\n",
    "del data['liveness']\n",
    "del data['key']\n",
    "del data['valence']\n",
    "del data['tempo']\n",
    "del data['duration_ms']\n",
    "del data['speechiness']\n",
    "del data['danceability']\n",
    "del data['instrumentalness']\n",
    "del data['track_name']\n",
    "\n",
    "train, test = sklearn.model_selection.train_test_split(data, test_size = 0.1)\n",
    "x_train = train.iloc[: , :-1]\n",
    "x_test = test.iloc[: , :-1]\n",
    "y_train = train.iloc[ : , len(train.columns) - 1]\n",
    "y_test = test.iloc[ : , len(train.columns) - 1]"
   ]
  },
  {
   "cell_type": "markdown",
   "metadata": {},
   "source": [
    "<html>\n",
    "    <div dir = \"rtl\" style=\"font-size: 22px; color: green\">\n",
    "        <b>\n",
    "            3) KNN\n",
    "        </b>\n",
    "    </div>\n",
    "</html>"
   ]
  },
  {
   "cell_type": "code",
   "execution_count": 28,
   "metadata": {},
   "outputs": [],
   "source": [
    "def get_accuracy(pred, real):\n",
    "    return sum(pred == real) / len(pred)"
   ]
  },
  {
   "cell_type": "code",
   "execution_count": 29,
   "metadata": {},
   "outputs": [],
   "source": [
    "from sklearn.neighbors import KNeighborsClassifier\n",
    "train_acc = []\n",
    "test_acc = []\n",
    "best = 0\n",
    "best_i = 1\n",
    "for i in range(1, 50):\n",
    "    knn = KNeighborsClassifier(n_neighbors = i)\n",
    "    knn.fit(x_train, y_train)\n",
    "    train_acc.append(accuracy_score(y_train, knn.predict(x_train)))\n",
    "    tmp = accuracy_score(y_test, knn.predict(x_test))\n",
    "    test_acc.append(tmp)\n",
    "    if (best < tmp):\n",
    "        best_i, best = i, tmp"
   ]
  },
  {
   "cell_type": "code",
   "execution_count": 30,
   "metadata": {},
   "outputs": [
    {
     "name": "stdout",
     "output_type": "stream",
     "text": [
      "1\n"
     ]
    },
    {
     "data": {
      "text/plain": [
       "<matplotlib.legend.Legend at 0x7faf17fa4910>"
      ]
     },
     "execution_count": 30,
     "metadata": {},
     "output_type": "execute_result"
    },
    {
     "data": {
      "image/png": "[encoded data removed]",
      "text/plain": [
       "<Figure size 432x288 with 1 Axes>"
      ]
     },
     "metadata": {
      "needs_background": "light"
     },
     "output_type": "display_data"
    }
   ],
   "source": [
    "print(best_i)\n",
    "plt.plot(test_acc)\n",
    "plt.plot(train_acc)\n",
    "plt.legend([\"test accuracy\", \"train accuracy\"], loc =\"upper right\")"
   ]
  },
  {
   "cell_type": "markdown",
   "metadata": {},
   "source": [
    "<html>\n",
    "    <div dir = \"rtl\" style=\"font-size: 22px; color: green\">\n",
    "        <b>\n",
    "            4) Decision Tree\n",
    "        </b>\n",
    "    </div>\n",
    "</html>"
   ]
  },
  {
   "cell_type": "code",
   "execution_count": 31,
   "metadata": {},
   "outputs": [],
   "source": [
    "data = copy.deepcopy(real_data)\n",
    "del data['mode']\n",
    "del data['liveness']\n",
    "del data['key']\n",
    "del data['valence']\n",
    "del data['tempo']\n",
    "del data['duration_ms']\n",
    "# del data['speechiness']\n",
    "# del data['danceability']\n",
    "# del data['instrumentalness']\n",
    "# del data['track_name']\n",
    "# del data['energy']\n",
    "# del data['loudness']\n",
    "# del data['acousticness']\n",
    "train, test = sklearn.model_selection.train_test_split(data, test_size = 0.1)\n",
    "x_train = train.iloc[: , :-1]\n",
    "x_test = test.iloc[: , :-1]\n",
    "y_train = train.iloc[ : , len(train.columns) - 1]\n",
    "y_test = test.iloc[ : , len(train.columns) - 1]"
   ]
  },
  {
   "cell_type": "code",
   "execution_count": 32,
   "metadata": {},
   "outputs": [],
   "source": [
    "from sklearn import tree\n",
    "train_acc = []\n",
    "test_acc = []\n",
    "best = 0\n",
    "for i in range(1, 50):\n",
    "    clf = tree.DecisionTreeClassifier(max_depth = i)\n",
    "    clf = clf.fit(x_train, y_train)\n",
    "    train_acc.append(accuracy_score(y_train, clf.predict(x_train)))\n",
    "    tmp = accuracy_score(y_test, clf.predict(x_test))\n",
    "    test_acc.append(tmp)\n",
    "    if (best < tmp):\n",
    "        best_i, best = i, tmp"
   ]
  },
  {
   "cell_type": "code",
   "execution_count": 33,
   "metadata": {},
   "outputs": [
    {
     "name": "stdout",
     "output_type": "stream",
     "text": [
      "8\n"
     ]
    },
    {
     "data": {
      "text/plain": [
       "<matplotlib.legend.Legend at 0x7faf1a8eb0a0>"
      ]
     },
     "execution_count": 33,
     "metadata": {},
     "output_type": "execute_result"
    },
    {
     "data": {
      "image/png": "[encoded data removed]",
      "text/plain": [
       "<Figure size 432x288 with 1 Axes>"
      ]
     },
     "metadata": {
      "needs_background": "light"
     },
     "output_type": "display_data"
    }
   ],
   "source": [
    "print(best_i)\n",
    "plt.plot(test_acc)\n",
    "plt.plot(train_acc)\n",
    "plt.xlabel('max_depth')\n",
    "plt.legend([\"test accuracy\", \"train accuracy\"], loc =\"upper right\")"
   ]
  },
  {
   "cell_type": "code",
   "execution_count": 34,
   "metadata": {},
   "outputs": [],
   "source": [
    "train_acc = []\n",
    "test_acc = []\n",
    "best = 0\n",
    "for i in range(1, 400):\n",
    "    clf = tree.DecisionTreeClassifier(min_samples_leaf = i)\n",
    "    clf = clf.fit(x_train, y_train)\n",
    "    train_acc.append(accuracy_score(y_train, clf.predict(x_train)))\n",
    "    tmp = accuracy_score(y_test, clf.predict(x_test))\n",
    "    test_acc.append(tmp)\n",
    "    if (best < tmp):\n",
    "        best_i, best = i, tmp"
   ]
  },
  {
   "cell_type": "code",
   "execution_count": 35,
   "metadata": {},
   "outputs": [
    {
     "name": "stdout",
     "output_type": "stream",
     "text": [
      "66\n"
     ]
    },
    {
     "data": {
      "text/plain": [
       "<matplotlib.legend.Legend at 0x7faf17e85940>"
      ]
     },
     "execution_count": 35,
     "metadata": {},
     "output_type": "execute_result"
    },
    {
     "data": {
      "image/png": "[encoded data removed]",
      "text/plain": [
       "<Figure size 432x288 with 1 Axes>"
      ]
     },
     "metadata": {
      "needs_background": "light"
     },
     "output_type": "display_data"
    }
   ],
   "source": [
    "print(best_i)\n",
    "plt.plot(test_acc)\n",
    "plt.plot(train_acc)\n",
    "plt.xlabel('min samples leaf')\n",
    "plt.legend([\"test accuracy\", \"train accuracy\"], loc =\"upper right\")"
   ]
  },
  {
   "cell_type": "markdown",
   "metadata": {},
   "source": [
    "<html>\n",
    "    <div dir = \"rtl\" style=\"font-size: 22px; color: green\">\n",
    "        <b>\n",
    "            5)\n",
    "        </b>\n",
    "    </div>\n",
    "    <div dir = \"rtl\" style = \"font-size: 16px\">\n",
    "        <br>\n",
    "       underfitting:\n",
    "        این حالت زمانی اتفاق می‌افتد که ما به دلالیل مختلف مانند کم بودن دیتای ترین، بد انتخاب کردن هایپر پارامتر ها و ... نمی ‌توانیم مدل خود را به خوبی آموزش دهیم و در نتیجه نمی‌توانیم به خوبی پیش بینی کنیم و دقت مدل ما کاهش می‌یابد.\n",
    "        <br><br>\n",
    "        overfitting:\n",
    "         این حالت هنگامی رخ می‌دهد که ما بیش از حد مدل خود را آموزش می‌دهیم و در نتیجه حتی نویز ها هم مدل می‌شوند و دقت مدل ما کاهش می‌یابد، به بیان دیگر مدل ما فیچر های مختلف را حفظ می‌کند.\n",
    "        <br><br>\n",
    "        KNN:\n",
    "        در این با افزایش \n",
    "        n-neighbors\n",
    "        مدل ما دچار overfitting\n",
    "        می‌شود.\n",
    "        <br><br>\n",
    "        Decision Tree:\n",
    "        <br>\n",
    "        max_depth:\n",
    "        در این مدل در ابتدا مدل ما دچار\n",
    "        underfitting\n",
    "        است چون متغیر\n",
    "        max_depth\n",
    "        مقدار بسیار کمی دارد ولی با افزایش این هایپر پارامتر دقت ما افزایش پیدا میکند ولی همان طور که مشاهده می‌کنید از اواسط نمودار وقتی این هایپر پارامتر بیش از حد زیاد شود، مدل ما دچار \n",
    "        overfitting \n",
    "        می‌شود و دقت آن کاهش می‌یابد.\n",
    "        <br>\n",
    "        min samples leaf:\n",
    "        در این مدل در ابتدا مدل ما دچار\n",
    "        underfitting\n",
    "        است چون متغیر\n",
    "        min samples laef\n",
    "        مقدار بسیار کمی دارد ولی با افزایش این هایپر پارامتر دقت ما افزایش پیدا میکند ولی همان طور که مشاهده می‌کنید از اواسط نمودار وقتی این هایپر پارامتر بیش از حد زیاد شود، مدل ما دچار \n",
    "        overfitting \n",
    "        می‌شود و دقت آن کاهش می‌یابد.\n",
    "        <br><br>\n",
    "    </div>\n",
    "</html>"
   ]
  },
  {
   "cell_type": "markdown",
   "metadata": {},
   "source": [
    "<html>\n",
    "    <div dir = \"rtl\" style=\"font-size: 22px; color: green\">\n",
    "        <b>\n",
    "            6)\n",
    "        </b>\n",
    "    </div>\n",
    "    <div dir = \"rtl\" style = \"font-size: 16px\">\n",
    "        Recall :\n",
    "        $$ Recall = \\frac{Correct\\ Detected\\ Genre}{Total\\ Genre}$$\n",
    "        این معیار محاسبه می‌کند که چند درصد از داده هایی که یک ژانر خاص را داشته اند، به درستی این ژانر را برای آن دیتا پیش‌بینی کرده ایم، ولی اهمیتی نمی‌دهد که چند دیتای اشتباه دیگر را در این ژانر طبقه بندی کرده ایم.\n",
    "        <br>\n",
    "        به بیان دیگر \n",
    "        False Positive\n",
    "        در این معیار تاثیری ندارد.\n",
    "       <br><br>\n",
    "        Precision:\n",
    "        $$Preciion = \\frac{Correct\\ Detected\\ Genre}{All Detected Genre}$$\n",
    "        این معیار محاسبه می‌کند چند درصد از داده هایی که برای آن ها یک ژانر خاص پیش‌بینی شده است، به درستی پیش بینی شده اند. ولی اهمیتی نمی‌دهد چند دیتا از این ژانر بوده‌اند ولی ژانر آن ها چیز دیگری تشخیص داده شده است.\n",
    "        <br>\n",
    "        به عبارت دیگر \n",
    "        False Negative\n",
    "        در این معیار تاثیری ندارد.\n",
    "        <br><br>\n",
    "        Accuracy:\n",
    "        $$Accuracy = \\frac{Correct\\ Detected}{Total}$$\n",
    "        در این معیار به درصد تشخیص های درست اهمیت داده میشود و به طور شهودی برابر با میانگین دو معیار بالاست.\n",
    "        <br><br>\n",
    "        F1 Score:\n",
    "        $$F1 = 2 \\times \\frac{Precision \\times Recall}{Precision + Recall}$$\n",
    "         این معیار میانگین هارمونیک دو معیار اولیه است در نتیجه اگر یکی از این معیار ها خیلی پایین باشد، این معیار نیز به آن متمایل می‌شود و امتیاز کمی می‌گیریم.\n",
    "    </div>\n",
    "</html>"
   ]
  },
  {
   "cell_type": "code",
   "execution_count": 36,
   "metadata": {},
   "outputs": [],
   "source": [
    "def calculate_accuracy(true_values, predicted_values):\n",
    "    true_gues= 0;\n",
    "    for i, j in zip(true_values, predicted_values):\n",
    "        true_gues += int(i == j)\n",
    "    return true_gues / len(true_values)\n",
    "\n",
    "def calculate_precision(true_values, predicted_values, label):\n",
    "    correct_gues = 0\n",
    "    all_gues = 0\n",
    "    for i, j in zip(true_values, predicted_values):\n",
    "        if j == label:\n",
    "            all_gues += 1\n",
    "            if i == j:\n",
    "                correct_gues += 1\n",
    "    return correct_gues / all_gues\n",
    "\n",
    "def calculate_recall(true_values, predicted_values, label):\n",
    "    correct_gues = 0\n",
    "    in_label = 0\n",
    "    for i, j in zip(true_values, predicted_values):\n",
    "        if i == label:\n",
    "            in_label += 1\n",
    "            if i == j:\n",
    "                correct_gues += 1\n",
    "    return correct_gues / in_label\n",
    "\n",
    "def calculate_f1(true_values, predicted_values, label):\n",
    "    recall = self.calculate_recall(true_values, predicted_values, label)\n",
    "    precision = self.calculate_precision(true_values, predicted_values, label)\n",
    "    if (recall + precision == 0):\n",
    "        return 0\n",
    "    return 2 * (recall * precision) / (recall + precision)"
   ]
  },
  {
   "cell_type": "markdown",
   "metadata": {},
   "source": [
    "<html>\n",
    "    <div dir = \"rtl\" style=\"font-size: 22px; color: green\">\n",
    "        <b>\n",
    "           KNN Accuracy)\n",
    "        </b>\n",
    "    </div>\n",
    "</html>"
   ]
  },
  {
   "cell_type": "code",
   "execution_count": 37,
   "metadata": {},
   "outputs": [],
   "source": [
    "data = copy.deepcopy(real_data)\n",
    "del data['mode']\n",
    "del data['liveness']\n",
    "del data['key']\n",
    "del data['valence']\n",
    "del data['tempo']\n",
    "del data['duration_ms']\n",
    "del data['speechiness']\n",
    "del data['danceability']\n",
    "del data['instrumentalness']\n",
    "del data['track_name']\n",
    "train, test = sklearn.model_selection.train_test_split(data, test_size = 0.1)\n",
    "x_train = train.iloc[: , :-1]\n",
    "x_test = test.iloc[: , :-1]\n",
    "y_train = train.iloc[ : , len(train.columns) - 1]\n",
    "y_test = test.iloc[ : , len(train.columns) - 1]"
   ]
  },
  {
   "cell_type": "code",
   "execution_count": 38,
   "metadata": {},
   "outputs": [
    {
     "name": "stdout",
     "output_type": "stream",
     "text": [
      "Train Accuracy : 0.988\n",
      "Train F1 Score : 0.9879992326699449\n",
      "Train Recall : 0.988\n",
      "Train Precision : 0.9880005879238584\n",
      "\n",
      "Test Accuracy : 0.788\n",
      "Test F1 Score : 0.788683532364431\n",
      "Test Recall : 0.788\n",
      "Test Precision : 0.7896768649163889\n"
     ]
    }
   ],
   "source": [
    "knn = KNeighborsClassifier(n_neighbors = 1)\n",
    "knn.fit(x_train, y_train)\n",
    "train_pred = knn.predict(x_train)\n",
    "test_pred = knn.predict(x_test)\n",
    "\n",
    "print(\"Train Accuracy : \" + str(accuracy_score(y_train, train_pred)))\n",
    "print(\"Train F1 Score : \" + str(f1_score(y_train, train_pred, average = 'weighted')))\n",
    "print(\"Train Recall : \" + str(recall_score(y_train, train_pred, average = 'weighted')))\n",
    "print(\"Train Precision : \" + str(precision_score(y_train, train_pred, average = 'weighted')))\n",
    "print()\n",
    "print(\"Test Accuracy : \" + str(accuracy_score(y_test, test_pred)))\n",
    "print(\"Test F1 Score : \" + str(f1_score(y_test, test_pred, average = 'weighted')))\n",
    "print(\"Test Recall : \" + str(recall_score(y_test, test_pred, average = 'weighted')))\n",
    "print(\"Test Precision : \" + str(precision_score(y_test, test_pred, average = 'weighted')))"
   ]
  },
  {
   "cell_type": "markdown",
   "metadata": {},
   "source": [
    "<html>\n",
    "    <div dir = \"rtl\" style=\"font-size: 22px; color: green\">\n",
    "        <b>\n",
    "           Decision Accuracy)\n",
    "        </b>\n",
    "    </div>\n",
    "</html>"
   ]
  },
  {
   "cell_type": "code",
   "execution_count": 39,
   "metadata": {},
   "outputs": [],
   "source": [
    "data = copy.deepcopy(real_data)\n",
    "del data['mode']\n",
    "del data['liveness']\n",
    "del data['key']\n",
    "del data['valence']\n",
    "del data['tempo']\n",
    "del data['duration_ms']\n",
    "# del data['speechiness']\n",
    "# del data['danceability']\n",
    "# del data['instrumentalness']\n",
    "# del data['track_name']\n",
    "# del data['energy']\n",
    "# del data['loudness']\n",
    "# del data['acousticness']\n",
    "train, test = sklearn.model_selection.train_test_split(data, test_size = 0.1)\n",
    "x_train = train.iloc[: , :-1]\n",
    "x_test = test.iloc[: , :-1]\n",
    "y_train = train.iloc[ : , len(train.columns) - 1]\n",
    "y_test = test.iloc[ : , len(train.columns) - 1]"
   ]
  },
  {
   "cell_type": "code",
   "execution_count": 40,
   "metadata": {},
   "outputs": [
    {
     "name": "stdout",
     "output_type": "stream",
     "text": [
      "Train Accuracy : 0.6751111111111111\n",
      "Train F1 Score : 0.6711649570552406\n",
      "Train Recall : 0.6751111111111111\n",
      "Train Precision : 0.6781257073131383\n",
      "\n",
      "Test Accuracy : 0.6583333333333333\n",
      "Test F1 Score : 0.6525222379157876\n",
      "Test Recall : 0.6583333333333333\n",
      "Test Precision : 0.6632296487993072\n"
     ]
    }
   ],
   "source": [
    "clf = tree.DecisionTreeClassifier(max_depth = 9, min_samples_leaf = 59)\n",
    "clf = clf.fit(x_train, y_train)\n",
    "train_pred = clf.predict(x_train)\n",
    "test_pred = clf.predict(x_test)\n",
    "\n",
    "print(\"Train Accuracy : \" + str(accuracy_score(y_train, train_pred)))\n",
    "print(\"Train F1 Score : \" + str(f1_score(y_train, train_pred, average = 'weighted')))\n",
    "print(\"Train Recall : \" + str(recall_score(y_train, train_pred, average = 'weighted')))\n",
    "print(\"Train Precision : \" + str(precision_score(y_train, train_pred, average = 'weighted')))\n",
    "print()\n",
    "print(\"Test Accuracy : \" + str(accuracy_score(y_test, test_pred)))\n",
    "print(\"Test F1 Score : \" + str(f1_score(y_test, test_pred, average = 'weighted')))\n",
    "print(\"Test Recall : \" + str(recall_score(y_test, test_pred, average = 'weighted')))\n",
    "print(\"Test Precision : \" + str(precision_score(y_test, test_pred, average = 'weighted')))"
   ]
  },
  {
   "cell_type": "markdown",
   "metadata": {},
   "source": [
    "<html>\n",
    "    <div dir = \"rtl\" style=\"font-size: 22px; color: green\">\n",
    "        <b>\n",
    "            7)\n",
    "        </b>\n",
    "    </div>\n",
    "    <div dir = \"rtl\" style = \"font-size: 16px\">\n",
    "        <br>\n",
    "       حذف داده هایی که information gain زیادی نداشتند باعث افزایش چند برابری دقت مدل‌ها شده است.\n",
    "        <br>\n",
    "        استفاده از \n",
    "        label encoding\n",
    "        باعث شده است که بتوانیم از نام خواننده که داده ی خیلی ارزشمندی است استفاده کنیم و دقت مدل را بالا ببریم.\n",
    "        <br>\n",
    "        standardize\n",
    "        باعث شده است تاثیر متغیر های مختلف بالانس شود.\n",
    "        <br>\n",
    "        جایگزینی مقادیر گم شده با مود داده باعث می‌شود بتوانیم حداکثر استفاده را از دیتا ببریم.\n",
    "        <br><br>\n",
    "    </div>\n",
    "</html>"
   ]
  },
  {
   "cell_type": "markdown",
   "metadata": {},
   "source": [
    "<html>\n",
    "    <div dir = \"rtl\" style=\"font-size: 24px; color: orange\">\n",
    "        <b>\n",
    "            فاز سوم: \n",
    "           Ensemble Methods\n",
    "        </b>\n",
    "    </div>\n",
    "</html>"
   ]
  },
  {
   "cell_type": "markdown",
   "metadata": {},
   "source": [
    "<html>\n",
    "    <div dir = \"rtl\" style=\"font-size: 22px; color: green\">\n",
    "        <b>\n",
    "            1)\n",
    "        </b>\n",
    "    </div>\n",
    "    <div dir = \"rtl\" style = \"font-size: 16px\">\n",
    "    </div>\n",
    "</html>"
   ]
  },
  {
   "cell_type": "code",
   "execution_count": 41,
   "metadata": {},
   "outputs": [],
   "source": [
    "data = copy.deepcopy(real_data)\n",
    "del data['mode']\n",
    "del data['liveness']\n",
    "del data['key']\n",
    "del data['valence']\n",
    "del data['tempo']\n",
    "# del data['duration_ms']\n",
    "# del data['speechiness']\n",
    "# del data['danceability']\n",
    "# del data['instrumentalness']\n",
    "# del data['track_name']\n",
    "train, test = sklearn.model_selection.train_test_split(data, test_size = 0.1)\n",
    "x_train = train.iloc[: , :-1]\n",
    "x_test = test.iloc[: , :-1]\n",
    "y_train = train.iloc[ : , len(train.columns) - 1]\n",
    "y_test = test.iloc[ : , len(train.columns) - 1]"
   ]
  },
  {
   "cell_type": "code",
   "execution_count": 42,
   "metadata": {},
   "outputs": [
    {
     "data": {
      "text/html": [
       "<style>#sk-container-id-1 {color: black;background-color: white;}#sk-container-id-1 pre{padding: 0;}#sk-container-id-1 div.sk-toggleable {background-color: white;}#sk-container-id-1 label.sk-toggleable__label {cursor: pointer;display: block;width: 100%;margin-bottom: 0;padding: 0.3em;box-sizing: border-box;text-align: center;}#sk-container-id-1 label.sk-toggleable__label-arrow:before {content: \"▸\";float: left;margin-right: 0.25em;color: #696969;}#sk-container-id-1 label.sk-toggleable__label-arrow:hover:before {color: black;}#sk-container-id-1 div.sk-estimator:hover label.sk-toggleable__label-arrow:before {color: black;}#sk-container-id-1 div.sk-toggleable__content {max-height: 0;max-width: 0;overflow: hidden;text-align: left;background-color: #f0f8ff;}#sk-container-id-1 div.sk-toggleable__content pre {margin: 0.2em;color: black;border-radius: 0.25em;background-color: #f0f8ff;}#sk-container-id-1 input.sk-toggleable__control:checked~div.sk-toggleable__content {max-height: 200px;max-width: 100%;overflow: auto;}#sk-container-id-1 input.sk-toggleable__control:checked~label.sk-toggleable__label-arrow:before {content: \"▾\";}#sk-container-id-1 div.sk-estimator input.sk-toggleable__control:checked~label.sk-toggleable__label {background-color: #d4ebff;}#sk-container-id-1 div.sk-label input.sk-toggleable__control:checked~label.sk-toggleable__label {background-color: #d4ebff;}#sk-container-id-1 input.sk-hidden--visually {border: 0;clip: rect(1px 1px 1px 1px);clip: rect(1px, 1px, 1px, 1px);height: 1px;margin: -1px;overflow: hidden;padding: 0;position: absolute;width: 1px;}#sk-container-id-1 div.sk-estimator {font-family: monospace;background-color: #f0f8ff;border: 1px dotted black;border-radius: 0.25em;box-sizing: border-box;margin-bottom: 0.5em;}#sk-container-id-1 div.sk-estimator:hover {background-color: #d4ebff;}#sk-container-id-1 div.sk-parallel-item::after {content: \"\";width: 100%;border-bottom: 1px solid gray;flex-grow: 1;}#sk-container-id-1 div.sk-label:hover label.sk-toggleable__label {background-color: #d4ebff;}#sk-container-id-1 div.sk-serial::before {content: \"\";position: absolute;border-left: 1px solid gray;box-sizing: border-box;top: 0;bottom: 0;left: 50%;z-index: 0;}#sk-container-id-1 div.sk-serial {display: flex;flex-direction: column;align-items: center;background-color: white;padding-right: 0.2em;padding-left: 0.2em;position: relative;}#sk-container-id-1 div.sk-item {position: relative;z-index: 1;}#sk-container-id-1 div.sk-parallel {display: flex;align-items: stretch;justify-content: center;background-color: white;position: relative;}#sk-container-id-1 div.sk-item::before, #sk-container-id-1 div.sk-parallel-item::before {content: \"\";position: absolute;border-left: 1px solid gray;box-sizing: border-box;top: 0;bottom: 0;left: 50%;z-index: -1;}#sk-container-id-1 div.sk-parallel-item {display: flex;flex-direction: column;z-index: 1;position: relative;background-color: white;}#sk-container-id-1 div.sk-parallel-item:first-child::after {align-self: flex-end;width: 50%;}#sk-container-id-1 div.sk-parallel-item:last-child::after {align-self: flex-start;width: 50%;}#sk-container-id-1 div.sk-parallel-item:only-child::after {width: 0;}#sk-container-id-1 div.sk-dashed-wrapped {border: 1px dashed gray;margin: 0 0.4em 0.5em 0.4em;box-sizing: border-box;padding-bottom: 0.4em;background-color: white;}#sk-container-id-1 div.sk-label label {font-family: monospace;font-weight: bold;display: inline-block;line-height: 1.2em;}#sk-container-id-1 div.sk-label-container {text-align: center;}#sk-container-id-1 div.sk-container {/* jupyter's `normalize.less` sets `[hidden] { display: none; }` but bootstrap.min.css set `[hidden] { display: none !important; }` so we also need the `!important` here to be able to override the default hidden behavior on the sphinx rendered scikit-learn.org. See: https://github.com/scikit-learn/scikit-learn/issues/21755 */display: inline-block !important;position: relative;}#sk-container-id-1 div.sk-text-repr-fallback {display: none;}</style><div id=\"sk-container-id-1\" class=\"sk-top-container\"><div class=\"sk-text-repr-fallback\"><pre>RandomForestClassifier(max_depth=9, min_samples_leaf=67)</pre><b>In a Jupyter environment, please rerun this cell to show the HTML representation or trust the notebook. <br />On GitHub, the HTML representation is unable to render, please try loading this page with nbviewer.org.</b></div><div class=\"sk-container\" hidden><div class=\"sk-item\"><div class=\"sk-estimator sk-toggleable\"><input class=\"sk-toggleable__control sk-hidden--visually\" id=\"sk-estimator-id-1\" type=\"checkbox\" checked><label for=\"sk-estimator-id-1\" class=\"sk-toggleable__label sk-toggleable__label-arrow\">RandomForestClassifier</label><div class=\"sk-toggleable__content\"><pre>RandomForestClassifier(max_depth=9, min_samples_leaf=67)</pre></div></div></div></div></div>"
      ],
      "text/plain": [
       "RandomForestClassifier(max_depth=9, min_samples_leaf=67)"
      ]
     },
     "execution_count": 42,
     "metadata": {},
     "output_type": "execute_result"
    }
   ],
   "source": [
    "clf = RandomForestClassifier(max_depth = 9, min_samples_leaf = 67);\n",
    "clf.fit(x_train, y_train)"
   ]
  },
  {
   "cell_type": "markdown",
   "metadata": {},
   "source": [
    "<html>\n",
    "    <div dir = \"rtl\" style=\"font-size: 22px; color: green\">\n",
    "        <b>\n",
    "            2)\n",
    "        </b>\n",
    "    </div>\n",
    "    <div dir = \"rtl\" style = \"font-size: 16px\">\n",
    "        max_depth:\n",
    "         .این متغیر حداکثر ارتفاع هر درخت در جنگل را مشخص می‌کند\n",
    "    افزایش این متغیر باعث میشود مدل ما بیشتر با داده‌ی\n",
    "        train\n",
    "        فیت شود در نتیجه محدود کردن آن باعث کمتر شدن واریانس و افزایش بایاس می‌شود.\n",
    "        <br><br>\n",
    "        leaf_samples_min:\n",
    "        فرض کنید این متغیر برابر \n",
    "        x\n",
    "        باشد، در این حالت هر جا که اسپلیت کردن یک راس به کمتر از ۱۰ برگ برسد، اسپلیت کردن این راس متوقف می‌شود.\n",
    "        تاثیر این متغیر نیز مانند متغیر بالاست، با این تفاوت که افزایش آن باعث کمتر فیت شدن درخت با داده ی ترین می‌شود و باعث واریانس کمتر و بایاس بیشتر می‌شود.\n",
    "        <br><br>\n",
    "        n_estimators:\n",
    "        این متغیر برابر درخت های داخل جنگل است.\n",
    "        افزایش این متغیر باعث افزایش محاسبات و کندی برنامه می‌شود\n",
    "        <br>\n",
    "        افزایش این متغیر همیشه نتیجه را بهبود نمی‌بخشد چرا که افزایش بیش از حد آن ممکن است باعث شود درخت ها به هم وابستگی پیدا کنند که این اتفاق باعث کاهش دقت می‌شود.\n",
    "    </div>\n",
    "</html>"
   ]
  },
  {
   "cell_type": "markdown",
   "metadata": {},
   "source": [
    "<html>\n",
    "    <div dir = \"rtl\" style=\"font-size: 22px; color: green\">\n",
    "        <b>\n",
    "            3)\n",
    "        </b>\n",
    "    </div>\n",
    "    <div dir = \"rtl\" style = \"font-size: 16px\">\n",
    "    </div>\n",
    "</html>"
   ]
  },
  {
   "cell_type": "code",
   "execution_count": 43,
   "metadata": {},
   "outputs": [
    {
     "name": "stdout",
     "output_type": "stream",
     "text": [
      "Train Accuracy : 0.7840370370370371\n",
      "Train F1 Score : 0.7821170915098762\n",
      "Train Recall : 0.7840370370370371\n",
      "Train Precision : 0.7940165267177965\n",
      "\n",
      "Test Accuracy : 0.7253333333333334\n",
      "Test F1 Score : 0.7227112987322191\n",
      "Test Recall : 0.7253333333333334\n",
      "Test Precision : 0.7336866159977756\n"
     ]
    }
   ],
   "source": [
    "data = copy.deepcopy(real_data)\n",
    "del data['mode']\n",
    "del data['liveness']\n",
    "del data['key']\n",
    "# del data['valence']\n",
    "# del data['tempo']\n",
    "# del data['duration_ms']\n",
    "# del data['speechiness']\n",
    "# del data['danceability']\n",
    "# del data['instrumentalness']\n",
    "# del data['track_name']\n",
    "train, test = sklearn.model_selection.train_test_split(data, test_size = 0.1)\n",
    "x_train = train.iloc[: , :-1]\n",
    "x_test = test.iloc[: , :-1]\n",
    "y_train = train.iloc[ : , len(train.columns) - 1]\n",
    "y_test = test.iloc[ : , len(train.columns) - 1]\n",
    "\n",
    "\n",
    "clf = RandomForestClassifier(n_estimators = 300, max_depth = 15, min_samples_leaf = 10);\n",
    "clf.fit(x_train, y_train)\n",
    "train_pred = clf.predict(x_train)\n",
    "test_pred = clf.predict(x_test)\n",
    "\n",
    "print(\"Train Accuracy : \" + str(accuracy_score(y_train, train_pred)))\n",
    "print(\"Train F1 Score : \" + str(f1_score(y_train, train_pred, average = 'weighted')))\n",
    "print(\"Train Recall : \" + str(recall_score(y_train, train_pred, average = 'weighted')))\n",
    "print(\"Train Precision : \" + str(precision_score(y_train, train_pred, average = 'weighted')))\n",
    "print()\n",
    "print(\"Test Accuracy : \" + str(accuracy_score(y_test, test_pred)))\n",
    "print(\"Test F1 Score : \" + str(f1_score(y_test, test_pred, average = 'weighted')))\n",
    "print(\"Test Recall : \" + str(recall_score(y_test, test_pred, average = 'weighted')))\n",
    "print(\"Test Precision : \" + str(precision_score(y_test, test_pred, average = 'weighted')))"
   ]
  },
  {
   "cell_type": "markdown",
   "metadata": {},
   "source": [
    "<html>\n",
    "    <div dir = \"rtl\" style=\"font-size: 22px; color: green\">\n",
    "        <b>\n",
    "            4)\n",
    "        </b>\n",
    "    </div>\n",
    "    <div dir = \"rtl\" style = \"font-size: 16px\">\n",
    "    </div>\n",
    "</html>"
   ]
  },
  {
   "cell_type": "code",
   "execution_count": 44,
   "metadata": {},
   "outputs": [
    {
     "name": "stderr",
     "output_type": "stream",
     "text": [
      "/home/c/.local/lib/python3.8/site-packages/sklearn/utils/deprecation.py:87: FutureWarning: Function plot_confusion_matrix is deprecated; Function `plot_confusion_matrix` is deprecated in 1.0 and will be removed in 1.2. Use one of the class methods: ConfusionMatrixDisplay.from_predictions or ConfusionMatrixDisplay.from_estimator.\n",
      "  warnings.warn(msg, category=FutureWarning)\n"
     ]
    },
    {
     "data": {
      "text/plain": [
       "<sklearn.metrics._plot.confusion_matrix.ConfusionMatrixDisplay at 0x7faf17e21d00>"
      ]
     },
     "execution_count": 44,
     "metadata": {},
     "output_type": "execute_result"
    },
    {
     "data": {
      "image/png": "[encoded data removed]",
      "text/plain": [
       "<Figure size 432x288 with 2 Axes>"
      ]
     },
     "metadata": {
      "needs_background": "light"
     },
     "output_type": "display_data"
    }
   ],
   "source": [
    "plot_confusion_matrix(clf, x_train, y_train)"
   ]
  }
 ],
 "metadata": {
  "kernelspec": {
   "display_name": "Python 3",
   "language": "python",
   "name": "python3"
  },
  "language_info": {
   "codemirror_mode": {
    "name": "ipython",
    "version": 3
   },
   "file_extension": ".py",
   "mimetype": "text/x-python",
   "name": "python",
   "nbconvert_exporter": "python",
   "pygments_lexer": "ipython3",
   "version": "3.8.10"
  }
 },
 "nbformat": 4,
 "nbformat_minor": 4
}
