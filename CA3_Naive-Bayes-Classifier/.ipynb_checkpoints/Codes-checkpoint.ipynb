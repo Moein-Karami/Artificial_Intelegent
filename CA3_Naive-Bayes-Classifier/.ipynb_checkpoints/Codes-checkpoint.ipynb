{
 "cells": [
  {
   "cell_type": "markdown",
   "metadata": {},
   "source": [
    "<html>\n",
    "    <div dir = \"rtl\" style=\"font-size: 26px; color: blue\">\n",
    "        <b>\n",
    "            پروژه سوم درس هوش مصنوعی\n",
    "            <br>\n",
    "            <br>\n",
    "            Naive Bayes Classifier\n",
    "        </b>\n",
    "    </div>\n",
    "<br>\n",
    "<br>\n",
    "<br>\n",
    "    <div dir = \"rtl\" style=\"font-size: 24px; color: gray\">\n",
    "        <b>\n",
    "            معین کرمی\n",
    "            <br>\n",
    "            <br>\n",
    "            810198540\n",
    "        </b>\n",
    "    </div>\n",
    "</html>\n"
   ]
  },
  {
   "cell_type": "markdown",
   "metadata": {},
   "source": [
    "<html>\n",
    "    <div dir = \"rtl\" style=\"font-size: 22px; color: green\">\n",
    "        <b>\n",
    "            هدف پروژه:\n",
    "        </b>\n",
    "    </div>\n",
    "    <div dir = \"rtl\" style = \"font-size: 16px\">\n",
    "        <b>\n",
    "            <br>\n",
    "             هدف از این پروژه آشنایی با\n",
    "            Naive Bayes Classifier\n",
    "            و استفاده از آن برای طبقه بندی اطلاعات است.\n",
    "        <br>\n",
    "        <br>\n",
    "    </div>\n",
    "    <div dir = \"rtl\" style=\"font-size: 22px; color: green\">\n",
    "        <b>\n",
    "            خلاصه ی مسئله:\n",
    "        </b>\n",
    "    </div>\n",
    "    <br>\n",
    "    <div dir = \"rtl\" style = \"font-size: 16px\">\n",
    "            در این مسئله یک مجموعه مقالات که هر کدام موضوع خاصی دارند به ما داده‌شده است و ما باید با استفاده از \n",
    "        Naive Bayes Classifier\n",
    "        این مقالات را تجزیه تحلیل کنیم و یک مدل برای تشخیص موضوع مقالات ارائه دهیم.\n",
    "    </div>\n",
    "</html>\n"
   ]
  },
  {
   "cell_type": "markdown",
   "metadata": {},
   "source": [
    "<html>\n",
    "    <div dir = \"rtl\" style=\"font-size: 22px; color: green\">\n",
    "        <b>\n",
    "            فاز اول: پیش‌پردازش داده\n",
    "        </b>\n",
    "    </div>\n",
    "    <div dir = \"rtl\" style = \"font-size: 16px\">\n",
    "        <br>\n",
    "        ۱.\n",
    "       در متن ها به دلایل مختلف از اشکال مختلف یک کلمه مانند\n",
    "        organize, organizes, organizing\n",
    "        استفاده می‌شود. علاوه بر این از کلمات هم خوانواده و یا کلماتی که معنای مشابه دارند مانند\n",
    "        democracy, democratic, democratization\n",
    "        استفاده می‌شود.\n",
    "         <br>\n",
    "        هدف \n",
    "        stemming, lemmatization\n",
    "        بی‌اثر کردن تفاوت این کلمات است به صورتی که یک کلمه در نظر گرفته شوند.\n",
    "        <br>\n",
    "        در \n",
    "        stemming\n",
    "        کلمات را با ریشه آن ها جایگزین می‌کنیم مثلا:\n",
    "        fished -> fish.\n",
    "        <br>\n",
    "         در \n",
    "        lemmatisation\n",
    "        کلمات مشابه مانند کلمات هم‌خانواده و هم معنی را در یک گروه قرار می‌دهیم و یک کلمه در نظر می‌گیریم.\n",
    "        مثلا:\n",
    "        better, good\n",
    "        <br>\n",
    "    </div>\n",
    "</html>"
   ]
  },
  {
   "cell_type": "code",
   "execution_count": 3,
   "metadata": {},
   "outputs": [],
   "source": [
    "import pandas as pd\n",
    "from __future__ import unicode_literals\n",
    "from hazm import *"
   ]
  },
  {
   "cell_type": "markdown",
   "metadata": {},
   "source": [
    "<html>\n",
    "    <div dir = \"rtl\" style = \"font-size: 16px\">\n",
    "        <br>\n",
    "        در اینجا ابتدا متن را نرمالایز می‌کنیم (نیم فاصله ها را به متن اضافه می‌کنیم).\n",
    "        سپس کلمات متن را جدا می‌کنیم و ایست‌واژه‌ها را از آن حذف می‌کنیم و در نهایت کلامت را\n",
    "        lemmatize\n",
    "        می‌کنیم.\n",
    "        <br>\n",
    "        از \n",
    "        stem\n",
    "        استفاده نمی‌کنیم چون این متد بعضی کلمه‌ها مخصوصا فعل ها را خراب می‌کند به مثال توجه کنید.\n",
    "        <br>\n",
    "    </div>\n",
    "</html>"
   ]
  },
  {
   "cell_type": "code",
   "execution_count": 20,
   "metadata": {},
   "outputs": [
    {
     "name": "stdout",
     "output_type": "stream",
     "text": [
      "رف\n"
     ]
    }
   ],
   "source": [
    "stemmer = Stemmer()\n",
    "print(stemmer.stem('رفتم'))"
   ]
  },
  {
   "cell_type": "code",
   "execution_count": null,
   "metadata": {},
   "outputs": [],
   "source": [
    "class Bayes:\n",
    "    def __init__(): \n",
    "        self.normalizer = Normalier()\n",
    "        self.lemmatizer = Lemmatizer()\n",
    "        self.stop_words = open(\"stop_words.txt\").read().split()\n",
    "        \n",
    "    def preprocess_text(text):\n",
    "        text = normalizer.normalize(text) #using semi space\n",
    "        tokens = word_tokenize(text)\n",
    "        chosen_tokens = []\n",
    "        for token in tokens:\n",
    "            if token not in self.stop_words:\n",
    "                chosen_tokens.append(self.lemmatizer.lemmatize(token))\n",
    "        return chosen_tokens"
   ]
  },
  {
   "cell_type": "markdown",
   "metadata": {},
   "source": []
  }
 ],
 "metadata": {
  "kernelspec": {
   "display_name": "Python 3",
   "language": "python",
   "name": "python3"
  },
  "language_info": {
   "codemirror_mode": {
    "name": "ipython",
    "version": 3
   },
   "file_extension": ".py",
   "mimetype": "text/x-python",
   "name": "python",
   "nbconvert_exporter": "python",
   "pygments_lexer": "ipython3",
   "version": "3.8.10"
  }
 },
 "nbformat": 4,
 "nbformat_minor": 4
}
