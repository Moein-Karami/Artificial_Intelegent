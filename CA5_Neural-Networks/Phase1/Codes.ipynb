{
 "cells": [
  {
   "cell_type": "markdown",
   "metadata": {},
   "source": [
    "<html>\n",
    "    <div dir = \"rtl\" style=\"font-size: 26px; color: blue\">\n",
    "        <b>\n",
    "            فاز اول پروژه پنجم درس هوش مصنوعی\n",
    "            <br>\n",
    "            <br>\n",
    "            Neuaral Networks\n",
    "            <br>\n",
    "            <br>\n",
    "            Phase #1\n",
    "        </b>\n",
    "    </div>\n",
    "<br>\n",
    "<br>\n",
    "<br>\n",
    "    <div dir = \"rtl\" style=\"font-size: 24px; color: gray\">\n",
    "        <b>\n",
    "            معین کرمی\n",
    "            <br>\n",
    "            <br>\n",
    "            810198540\n",
    "        </b>\n",
    "    </div>\n",
    "</html>\n"
   ]
  },
  {
   "cell_type": "markdown",
   "metadata": {},
   "source": [
    "<html>\n",
    "    <div dir = \"rtl\" style=\"font-size: 22px; color: green\">\n",
    "        <b>\n",
    "            هدف پروژه:\n",
    "        </b>\n",
    "    </div>\n",
    "    <div dir = \"rtl\" style = \"font-size: 16px\">\n",
    "        <b>\n",
    "            <br>\n",
    "             هدف از این پروژه آشنایی با\n",
    "            Neural Networks\n",
    "            و ساخت یک \n",
    "            مدل پردازش تصویر برای تشخیص ارقام فارسی\n",
    "            است.\n",
    "        <br>\n",
    "        <br>\n",
    "    </div>\n",
    "    <div dir = \"rtl\" style=\"font-size: 22px; color: green\">\n",
    "        <b>\n",
    "            خلاصه ی مسئله:\n",
    "        </b>\n",
    "    </div>\n",
    "    <br>\n",
    "    <div dir = \"rtl\" style = \"font-size: 16px\">\n",
    "            در این مسئله یک مجموعه داده شامل عکس ارقام فارسی به ما داده شده که ما باید با پیاده سازی یک مدل شبکه عصبی با استفاده از این دیتا، ارقام فارسی نوشته شده در عکس ها را تشخیص بدهیم.\n",
    "    </div>\n",
    "</html>\n"
   ]
  },
  {
   "cell_type": "markdown",
   "metadata": {},
   "source": [
    "<html>\n",
    "    <div dir = \"rtl\" style=\"font-size: 24px; color: orange\">\n",
    "        <b>\n",
    "            بخش اول: بررسی و پیش‌پردازش داده\n",
    "        </b>\n",
    "    </div>\n",
    "</html>"
   ]
  },
  {
   "cell_type": "code",
   "execution_count": 1,
   "metadata": {},
   "outputs": [],
   "source": [
    "import pickle\n",
    "import pandas as pd\n",
    "import numpy as np\n",
    "import matplotlib.pyplot as plt\n",
    "import copy\n",
    "from random import randint\n",
    "import cv2\n",
    "from sklearn.model_selection import train_test_split\n",
    "from sklearn.metrics import accuracy_score"
   ]
  },
  {
   "cell_type": "code",
   "execution_count": 2,
   "metadata": {},
   "outputs": [],
   "source": [
    "pkl_labels = open('dataset/labels.pkl', 'rb')\n",
    "labels = pickle.load(pkl_labels)\n",
    "pkl_pics = open('dataset/data.pkl', 'rb')\n",
    "pics = pickle.load(pkl_pics)\n",
    "real_pics = copy.deepcopy(pics)"
   ]
  },
  {
   "cell_type": "markdown",
   "metadata": {},
   "source": [
    "<html>\n",
    "    <div dir = \"rtl\" style=\"font-size: 22px; color: green\">\n",
    "        <b>\n",
    "            تقسیم داده های \n",
    "            test\n",
    "            و\n",
    "            train\n",
    "        </b>\n",
    "    </div>\n",
    "    <div dir = \"rtl\" style = \"font-size: 16px\">\n",
    "        <br>\n",
    "        ۲ درصد \n",
    "        داده را برای \n",
    "        test data\n",
    "        در نظر می‌گیریم.\n",
    "    </div>\n",
    "</html>"
   ]
  },
  {
   "cell_type": "code",
   "execution_count": 3,
   "metadata": {},
   "outputs": [],
   "source": [
    "data = pd.DataFrame({'pic' : pics, 'label' : labels})"
   ]
  },
  {
   "cell_type": "code",
   "execution_count": 4,
   "metadata": {},
   "outputs": [],
   "source": [
    "train, test = train_test_split(data, test_size = 0.02)"
   ]
  },
  {
   "cell_type": "markdown",
   "metadata": {},
   "source": [
    "<html>\n",
    "    <div dir = \"rtl\" style=\"font-size: 22px; color: green\">\n",
    "        <b>\n",
    "            1)\n",
    "        </b>\n",
    "    </div>\n",
    "    <div dir = \"rtl\" style = \"font-size: 16px\">\n",
    "    <br>\n",
    "        مقدار هر پیکسل میان ۰ و ۲۵۵ است.\n",
    "    </div>\n",
    "</html>"
   ]
  },
  {
   "cell_type": "code",
   "execution_count": 5,
   "metadata": {},
   "outputs": [
    {
     "data": {
      "text/plain": [
       "(array([369.,   0.,   0.,   0.,   0.,   0.,   0.,   0.,   0., 192.]),\n",
       " array([  0. ,  25.5,  51. ,  76.5, 102. , 127.5, 153. , 178.5, 204. ,\n",
       "        229.5, 255. ]),\n",
       " <BarContainer object of 10 artists>)"
      ]
     },
     "execution_count": 5,
     "metadata": {},
     "output_type": "execute_result"
    },
    {
     "data": {
      "image/png": "[encoded data removed]",
      "text/plain": [
       "<Figure size 432x288 with 1 Axes>"
      ]
     },
     "metadata": {
      "needs_background": "light"
     },
     "output_type": "display_data"
    }
   ],
   "source": [
    "index = randint(0, len(train))\n",
    "plt.hist(train['pic'][index].reshape(-1))"
   ]
  },
  {
   "cell_type": "markdown",
   "metadata": {},
   "source": [
    "<html>\n",
    "    <div dir = \"rtl\" style=\"font-size: 22px; color: green\">\n",
    "        <b>\n",
    "            ۲)\n",
    "        </b>\n",
    "    </div>\n",
    "    <div dir = \"rtl\" style = \"font-size: 16px\">\n",
    "    <br>\n",
    "        برای این کار از کتابخانه \n",
    "        cv2\n",
    "        و تابع \n",
    "        cv2.resize\n",
    "        استفاده می‌کنیم.\n",
    "    </div>\n",
    "</html>"
   ]
  },
  {
   "cell_type": "code",
   "execution_count": 6,
   "metadata": {},
   "outputs": [],
   "source": [
    "for i in range(len(data)):\n",
    "    data.at[i, 'pic'] = cv2.resize(data.at[i, 'pic'], (25, 25))\n",
    "train, test = train_test_split(data, test_size = 0.02)"
   ]
  },
  {
   "cell_type": "markdown",
   "metadata": {},
   "source": [
    "<html>\n",
    "    <div dir = \"rtl\" style=\"font-size: 22px; color: green\">\n",
    "        <b>\n",
    "            3)\n",
    "        </b>\n",
    "    </div>\n",
    "    <div dir = \"rtl\" style = \"font-size: 16px\">\n",
    "    </div>\n",
    "</html>"
   ]
  },
  {
   "cell_type": "code",
   "execution_count": 7,
   "metadata": {},
   "outputs": [
    {
     "name": "stdout",
     "output_type": "stream",
     "text": [
      "0\n"
     ]
    },
    {
     "data": {
      "image/png": "[encoded data removed]",
      "text/plain": [
       "<Figure size 432x288 with 1 Axes>"
      ]
     },
     "metadata": {
      "needs_background": "light"
     },
     "output_type": "display_data"
    },
    {
     "name": "stdout",
     "output_type": "stream",
     "text": [
      "9\n"
     ]
    },
    {
     "data": {
      "image/png": "[encoded data removed]",
      "text/plain": [
       "<Figure size 432x288 with 1 Axes>"
      ]
     },
     "metadata": {
      "needs_background": "light"
     },
     "output_type": "display_data"
    },
    {
     "name": "stdout",
     "output_type": "stream",
     "text": [
      "6\n"
     ]
    },
    {
     "data": {
      "image/png": "[encoded data removed]",
      "text/plain": [
       "<Figure size 432x288 with 1 Axes>"
      ]
     },
     "metadata": {
      "needs_background": "light"
     },
     "output_type": "display_data"
    },
    {
     "name": "stdout",
     "output_type": "stream",
     "text": [
      "3\n"
     ]
    },
    {
     "data": {
      "image/png": "[encoded data removed]",
      "text/plain": [
       "<Figure size 432x288 with 1 Axes>"
      ]
     },
     "metadata": {
      "needs_background": "light"
     },
     "output_type": "display_data"
    },
    {
     "name": "stdout",
     "output_type": "stream",
     "text": [
      "7\n"
     ]
    },
    {
     "data": {
      "image/png": "[encoded data removed]",
      "text/plain": [
       "<Figure size 432x288 with 1 Axes>"
      ]
     },
     "metadata": {
      "needs_background": "light"
     },
     "output_type": "display_data"
    },
    {
     "name": "stdout",
     "output_type": "stream",
     "text": [
      "4\n"
     ]
    },
    {
     "data": {
      "image/png": "[encoded data removed]",
      "text/plain": [
       "<Figure size 432x288 with 1 Axes>"
      ]
     },
     "metadata": {
      "needs_background": "light"
     },
     "output_type": "display_data"
    },
    {
     "name": "stdout",
     "output_type": "stream",
     "text": [
      "2\n"
     ]
    },
    {
     "data": {
      "image/png": "[encoded data removed]",
      "text/plain": [
       "<Figure size 432x288 with 1 Axes>"
      ]
     },
     "metadata": {
      "needs_background": "light"
     },
     "output_type": "display_data"
    },
    {
     "name": "stdout",
     "output_type": "stream",
     "text": [
      "8\n"
     ]
    },
    {
     "data": {
      "image/png": "[encoded data removed]",
      "text/plain": [
       "<Figure size 432x288 with 1 Axes>"
      ]
     },
     "metadata": {
      "needs_background": "light"
     },
     "output_type": "display_data"
    },
    {
     "name": "stdout",
     "output_type": "stream",
     "text": [
      "5\n"
     ]
    },
    {
     "data": {
      "image/png": "[encoded data removed]",
      "text/plain": [
       "<Figure size 432x288 with 1 Axes>"
      ]
     },
     "metadata": {
      "needs_background": "light"
     },
     "output_type": "display_data"
    },
    {
     "name": "stdout",
     "output_type": "stream",
     "text": [
      "1\n"
     ]
    },
    {
     "data": {
      "image/png": "[encoded data removed]",
      "text/plain": [
       "<Figure size 432x288 with 1 Axes>"
      ]
     },
     "metadata": {
      "needs_background": "light"
     },
     "output_type": "display_data"
    }
   ],
   "source": [
    "check = dict()\n",
    "\n",
    "for index, row in train.iterrows():\n",
    "    pic_label = row['label']\n",
    "    if pic_label not in check:\n",
    "        print (pic_label)\n",
    "        check[pic_label] = True\n",
    "        plt.imshow(row['pic'])\n",
    "        plt.show()"
   ]
  },
  {
   "cell_type": "markdown",
   "metadata": {},
   "source": [
    "<html>\n",
    "    <div dir = \"rtl\" style=\"font-size: 22px; color: green\">\n",
    "        <b>\n",
    "            4)\n",
    "        </b>\n",
    "    </div>\n",
    "    <div dir = \"rtl\" style = \"font-size: 16px\">\n",
    "        train :\n",
    "    </div>\n",
    "</html>"
   ]
  },
  {
   "cell_type": "code",
   "execution_count": 8,
   "metadata": {},
   "outputs": [
    {
     "name": "stdout",
     "output_type": "stream",
     "text": [
      "[[    0  9877]\n",
      " [    1 10103]\n",
      " [    2  9718]\n",
      " [    3 10138]\n",
      " [    4 10106]\n",
      " [    5  9918]\n",
      " [    6 10043]\n",
      " [    7 10174]\n",
      " [    8 10055]\n",
      " [    9 10172]]\n"
     ]
    },
    {
     "data": {
      "text/plain": [
       "<BarContainer object of 10 artists>"
      ]
     },
     "execution_count": 8,
     "metadata": {},
     "output_type": "execute_result"
    },
    {
     "data": {
      "image/png": "[encoded data removed]",
      "text/plain": [
       "<Figure size 432x288 with 1 Axes>"
      ]
     },
     "metadata": {
      "needs_background": "light"
     },
     "output_type": "display_data"
    }
   ],
   "source": [
    "unique, counts = np.unique(train['label'], return_counts=True)\n",
    "print (np.asarray((unique, counts)).T)\n",
    "plt.bar(unique, counts)"
   ]
  },
  {
   "cell_type": "markdown",
   "metadata": {},
   "source": [
    "<html>\n",
    "    <div dir = \"rtl\" style=\"font-size: 22px; color: green\">\n",
    "        <b>\n",
    "        </b>\n",
    "    </div>\n",
    "    <div dir = \"rtl\" style = \"font-size: 16px\">\n",
    "        test :\n",
    "    </div>\n",
    "</html>"
   ]
  },
  {
   "cell_type": "code",
   "execution_count": 9,
   "metadata": {},
   "outputs": [
    {
     "name": "stdout",
     "output_type": "stream",
     "text": [
      "[[  0 193]\n",
      " [  1 227]\n",
      " [  2 205]\n",
      " [  3 196]\n",
      " [  4 227]\n",
      " [  5 192]\n",
      " [  6 211]\n",
      " [  7 189]\n",
      " [  8 209]\n",
      " [  9 199]]\n"
     ]
    },
    {
     "data": {
      "text/plain": [
       "<BarContainer object of 10 artists>"
      ]
     },
     "execution_count": 9,
     "metadata": {},
     "output_type": "execute_result"
    },
    {
     "data": {
      "image/png": "[encoded data removed]",
      "text/plain": [
       "<Figure size 432x288 with 1 Axes>"
      ]
     },
     "metadata": {
      "needs_background": "light"
     },
     "output_type": "display_data"
    }
   ],
   "source": [
    "unique, counts = np.unique(test['label'], return_counts=True)\n",
    "print (np.asarray((unique, counts)).T)\n",
    "plt.bar(unique, counts)"
   ]
  },
  {
   "cell_type": "markdown",
   "metadata": {},
   "source": [
    "<html>\n",
    "    <div dir = \"rtl\" style=\"font-size: 22px; color: green\">\n",
    "        <b>\n",
    "            5)\n",
    "        </b>\n",
    "    </div>\n",
    "    <div dir = \"rtl\" style = \"font-size: 16px\">\n",
    "        در صورتی انجام ندادن این کار، تاثیر پیکسل ها با اعداد بزرگ، بسیار بیشتر خواهد شد که باعث کاهش دقت ما می‌شود.\n",
    "    </div>\n",
    "</html>"
   ]
  },
  {
   "cell_type": "code",
   "execution_count": 10,
   "metadata": {},
   "outputs": [],
   "source": [
    "for index, row in train.iterrows():\n",
    "    for i in range(len(row['pic'])):\n",
    "        train.at[index, 'pic'][i] = train.at[index, 'pic'][i] / 255.0"
   ]
  },
  {
   "cell_type": "code",
   "execution_count": 11,
   "metadata": {},
   "outputs": [],
   "source": [
    "for index, row in test.iterrows():\n",
    "    for i in range(len(row['pic'])):\n",
    "        test.at[index, 'pic'][i] = test.at[index, 'pic'][i] / 255.0"
   ]
  },
  {
   "cell_type": "markdown",
   "metadata": {},
   "source": [
    "<html>\n",
    "    <div dir = \"rtl\" style=\"font-size: 24px; color: orange\">\n",
    "        <b>\n",
    "            بخش دوم: تکمیل بخش‌های ناقص شبکه عصبی\n",
    "        </b>\n",
    "    </div>\n",
    "</html>"
   ]
  },
  {
   "cell_type": "markdown",
   "metadata": {},
   "source": [
    "<html>\n",
    "    <div dir = \"rtl\" style=\"font-size: 22px; color: green\">\n",
    "        <b>\n",
    "            Dataloader\n",
    "        </b>\n",
    "    </div>\n",
    "    <div dir = \"rtl\" style = \"font-size: 16px\">\n",
    "    </div>\n",
    "</html>"
   ]
  },
  {
   "cell_type": "code",
   "execution_count": 12,
   "metadata": {},
   "outputs": [],
   "source": [
    "class Dataloader:\n",
    "    '''\n",
    "    This class prepares the dataset for the neural network.\n",
    "    '''\n",
    "    \n",
    "    def __init__(self, data, labels, n_classes, batch_size=None, shuffle=False):\n",
    "        '''\n",
    "        This is the constructor. It gets dataset information and initializes the \n",
    "        Dataloader class fields.\n",
    "            Parameters:\n",
    "                data: features your dataset in pandas.Dataframe format.\n",
    "                labels: labels of your dataset in pandas.Dataframe format.\n",
    "                n_classes: number of classes you have in your dataset.\n",
    "                batch_size: the number of samples that will be propagated through the network.\n",
    "                shuffle: boolean value indicating whether or not the dataset should be shuffled\n",
    "        '''\n",
    "\n",
    "        assert len(data)==len(labels)\n",
    "        self.__n_classes = n_classes\n",
    "        self.__batch_size = batch_size\n",
    "        self.__shuffle = shuffle\n",
    "        self.__data = data\n",
    "        self.__onehot_labels = self.__onehot(labels, self.__n_classes)\n",
    "    \n",
    "    def __onehot(self, labels, n_classes):\n",
    "        '''\n",
    "        This private method gets labels and provides one_hot vectors of labels.\n",
    "        For categorical variables where no such ordinal relationship exists,\n",
    "        the integer encoding is not enough.\n",
    "        In this case, a one-hot encoding can be applied to the integer representation.\n",
    "        This is where the integer encoded variable is removed, and a new binary variable is\n",
    "        added for each unique integer value.\n",
    "        example:\n",
    "            red,    green,    blue\n",
    "            1,      0,        0\n",
    "            0,      1,        0\n",
    "            0,      0,        1\n",
    "                Parameters:\n",
    "                        label: lables of your dataset in pandas.Dataframe format.\n",
    "                        n_classes: number of classes you have in your dataset.\n",
    "                \n",
    "                Returns:\n",
    "                    onehot_vectors: onehot vectors of the labels\n",
    "        '''\n",
    "        # TODO: Implement\n",
    "        onehot_vectors = np.zeros((labels.size, n_classes))\n",
    "        labels = labels.astype(int)\n",
    "        index = 0\n",
    "#         print(labels['label'][0])\n",
    "        for row in onehot_vectors:\n",
    "#             print(index, labels['label'][index], '---------------------##----------------##---------------')\n",
    "            row[labels['label'][index]] = 1\n",
    "            index += 1\n",
    "        return onehot_vectors\n",
    "    \n",
    "    def __shuffle_dataset(self):\n",
    "        '''\n",
    "        This private method shuffles your dataset.\n",
    "        It uses data and onehot_labels to shuffle them\n",
    "        symmetrical.\n",
    "        '''\n",
    "        # TODO: Implement\n",
    "        self.__data, self.__onehot_labels = shuffle(self.__data, self.__onehot_labels)\n",
    "    \n",
    "    def __iter__(self):\n",
    "        '''\n",
    "        The __iter__() function returns an iterator for the\n",
    "        given object (array, set, tuple, etc., or custom objects).\n",
    "        This will return your dataset in the batch_size given. This should\n",
    "        be used to provide data for the neural network.\n",
    "        '''\n",
    "        \n",
    "        if self.__shuffle:\n",
    "            self.__shuffle_dataset()\n",
    "            \n",
    "        if self.__batch_size==None:\n",
    "            yield (np.matrix(self.__data), np.matrix(self.__onehot_labels))\n",
    "            return\n",
    "            \n",
    "        for idx in range(0, len(self.__data), self.__batch_size):\n",
    "            yield (np.matrix(self.__data[idx:idx+self.__batch_size]), \n",
    "                   np.matrix(self.__onehot_labels[idx:idx+self.__batch_size]))"
   ]
  },
  {
   "cell_type": "markdown",
   "metadata": {},
   "source": [
    "<html>\n",
    "    <div dir = \"rtl\" style=\"font-size: 30px; color: green\">\n",
    "        <b>\n",
    "            Activation Functions\n",
    "        </b>\n",
    "    </div>\n",
    "    <div dir = \"rtl\" style = \"font-size: 16px\">\n",
    "    </div>\n",
    "</html>"
   ]
  },
  {
   "cell_type": "markdown",
   "metadata": {},
   "source": [
    "<html>\n",
    "    <div dir = \"rtl\" style=\"font-size: 22px; color: green\">\n",
    "        <b>\n",
    "            Identical\n",
    "        </b>\n",
    "    </div>\n",
    "    <div dir = \"rtl\" style = \"font-size: 16px\">\n",
    "    </div>\n",
    "</html>"
   ]
  },
  {
   "cell_type": "code",
   "execution_count": 13,
   "metadata": {},
   "outputs": [],
   "source": [
    "class Identical:\n",
    "    '''\n",
    "    This is the Identical activation function. This activation function just\n",
    "    return the value it gets.\n",
    "    '''\n",
    "    \n",
    "    def __init__(self): pass\n",
    "    '''\n",
    "    This is the constructor. It does not have any fields\n",
    "    as a result, there is no need to do anything in the constructor.\n",
    "    '''\n",
    "    \n",
    "    def __val(self, matrix):\n",
    "        '''\n",
    "        This private method gets a matrix and uses the activity function on that.\n",
    "        As this is an identical activity function, it just \n",
    "        returns np.matrix of the input.\n",
    "        \n",
    "            Parameters:\n",
    "                matrix: np.matrix of values\n",
    "            Returns:\n",
    "                identical_value: np.matrix of input with float datatypes\n",
    "        '''\n",
    "        identical_value = np.matrix(matrix, dtype=float)\n",
    "        return identical_value\n",
    "\n",
    "    def derivative(self, matrix):\n",
    "        '''\n",
    "        This method returns the derivation of the input.\n",
    "        As the derivation of x is one, this method returns\n",
    "        a matrix of one with the shape of the input matrix.\n",
    "        \n",
    "            Parameters:\n",
    "                matrix: np.matrix of values\n",
    "            Returns:\n",
    "                identical_derivative: np.matrix of ones with matrix shape\n",
    "        '''\n",
    "        temp = np.matrix(matrix, dtype=float)\n",
    "        identical_derivative = np.matrix(np.full(np.shape(temp), 1.))\n",
    "        return identical_derivative\n",
    "    \n",
    "    def __call__(self, matrix):\n",
    "        '''\n",
    "        __call__ is a special function in Python that, when implemented inside a class,\n",
    "        gives its instances (objects) the ability to behave like a function.\n",
    "        Here we return the _value method output.\n",
    "            \n",
    "            Parameters:\n",
    "                matrix: np.matrix of values\n",
    "            Returns:\n",
    "                __val(matrix): __val return value for the input matrix\n",
    "        '''\n",
    "        return self.__val(matrix)"
   ]
  },
  {
   "cell_type": "markdown",
   "metadata": {},
   "source": [
    "<html>\n",
    "    <div dir = \"rtl\" style=\"font-size: 22px; color: green\">\n",
    "        <b>\n",
    "            Relu\n",
    "        </b>\n",
    "    </div>\n",
    "    <div dir = \"rtl\" style = \"font-size: 16px\">\n",
    "    </div>\n",
    "</html>"
   ]
  },
  {
   "cell_type": "code",
   "execution_count": 14,
   "metadata": {},
   "outputs": [],
   "source": [
    "class Relu:\n",
    "    '''\n",
    "    This is the Relu activation function. \n",
    "    The rectified linear activation function or ReLU for short\n",
    "    is a piecewise linear function that will output the input directly\n",
    "    if it is positive, otherwise, it will output zero.\n",
    "    '''\n",
    "    \n",
    "    def __init__(self): pass\n",
    "    '''\n",
    "    This is the constructor. It does not have any fields\n",
    "    as a result, there is no need to do anything in the constructor.\n",
    "    '''\n",
    "    \n",
    "    def __val(self, matrix):\n",
    "        '''\n",
    "        This private method gets a matrix and uses the activity function on that.\n",
    "        It will set 0 in the matrix if the value is less than 0 else, it returns the value itself.\n",
    "        \n",
    "            Parameters:\n",
    "                matrix: np.matrix of values\n",
    "            Returns:\n",
    "                relu_value: np.matrix of relu activation function result\n",
    "        '''\n",
    "        relu_value = copy.deepcopy(matrix)\n",
    "        relu_value[relu_value < 0] = 0\n",
    "        return relu_value\n",
    "\n",
    "    def derivative(self, matrix):\n",
    "        '''\n",
    "        Returns the derivation value of relu function on input matrix.\n",
    "        \n",
    "            Parameters:\n",
    "                matrix: np.matrix of values\n",
    "            Returns:\n",
    "                relu_derivative: np.matrix of relu activation function derivation result\n",
    "        '''\n",
    "        relu_derivative = copy.deepcopy(matrix)\n",
    "        relu_derivative = np.where(relu_derivative <= 0, 0, 1)\n",
    "        return relu_derivative\n",
    "    \n",
    "    def __call__(self, matrix):\n",
    "        '''\n",
    "        __call__ is a special function in Python that, when implemented inside a class,\n",
    "        gives its instances (objects) the ability to behave like a function.\n",
    "        Here we return the _relu method output.\n",
    "            \n",
    "            Parameters:\n",
    "                matrix: np.matrix of values\n",
    "            Returns:\n",
    "                __relu(matrix): __relu return value for the input matrix\n",
    "        '''\n",
    "        return self.__val(matrix)"
   ]
  },
  {
   "cell_type": "markdown",
   "metadata": {},
   "source": [
    "<html>\n",
    "    <div dir = \"rtl\" style=\"font-size: 22px; color: green\">\n",
    "        <b>\n",
    "            LeakyRelu\n",
    "        </b>\n",
    "    </div>\n",
    "    <div dir = \"rtl\" style = \"font-size: 16px\">\n",
    "    </div>\n",
    "</html>"
   ]
  },
  {
   "cell_type": "code",
   "execution_count": 15,
   "metadata": {},
   "outputs": [],
   "source": [
    "class LeakyRelu:\n",
    "    '''\n",
    "    This is the Leaky Relu activation function. \n",
    "    Leaky Rectified Linear Unit, or Leaky ReLU,\n",
    "    is a type of activation function based on a ReLU,\n",
    "    but it has a small slope for negative values instead\n",
    "    of a flat slope.\n",
    "    '''\n",
    "    \n",
    "    def __init__(self, negative_slope=0.01):\n",
    "        '''\n",
    "        This is the constructor.\n",
    "        It sets negative_slope field.\n",
    "            Parameters:\n",
    "                negative_slope: slope for negative input values\n",
    "        '''\n",
    "        self.negative_slope = 0.01\n",
    "    \n",
    "    def __val(self, matrix):\n",
    "        '''\n",
    "        This private method gets a matrix and uses the activity function on that.\n",
    "        It will set negative_slope*value in the matrix if the value is less than 0, else it\n",
    "        returns the value itself.\n",
    "        \n",
    "            Parameters:\n",
    "                matrix: np.matrix of values\n",
    "            Returns:\n",
    "                relu_value: np.matrix of relu activation function result\n",
    "        '''\n",
    "        # TODO: Implement\n",
    "        leacky_relu_value = copy.deepcopy(matrix)\n",
    "        leacky_relu_value = np.where(relu_derivative > 0, leacky_relu_value, leacky_relu_value * self.negative_slope)\n",
    "        return leacky_relu_value\n",
    "\n",
    "    def derivative(self, matrix):\n",
    "        '''\n",
    "        Returns the derivation value of leaky relu function on input matrix.\n",
    "        \n",
    "            Parameters:\n",
    "                matrix: np.matrix of values\n",
    "            Returns:\n",
    "                leacky_relu_derivative: np.matrix of leaky relu activation function derivation result\n",
    "        '''\n",
    "        leacky_relu_derivative = copy.deepcopy(matrix)\n",
    "        leaky_relu_derivative = np.where(leaky_relu_derivative > 0, 1.0, self.negative_slope)\n",
    "        return leacky_relu_derivative\n",
    "    \n",
    "    def __call__(self, matrix):\n",
    "        '''\n",
    "        __call__ is a special function in Python that, when implemented inside a class,\n",
    "        gives its instances (objects) the ability to behave like a function.\n",
    "        Here we return the _val method output.\n",
    "            \n",
    "            Parameters:\n",
    "                matrix: np.matrix of values\n",
    "            Returns:\n",
    "                __val(matrix): __val return value for the input matrix\n",
    "        '''\n",
    "        return self.__val(matrix)\n"
   ]
  },
  {
   "cell_type": "markdown",
   "metadata": {},
   "source": [
    "<html>\n",
    "    <div dir = \"rtl\" style=\"font-size: 22px; color: green\">\n",
    "        <b>\n",
    "            Sigmoid\n",
    "        </b>\n",
    "    </div>\n",
    "    <div dir = \"rtl\" style = \"font-size: 16px\">\n",
    "    </div>\n",
    "</html>"
   ]
  },
  {
   "cell_type": "code",
   "execution_count": 16,
   "metadata": {},
   "outputs": [],
   "source": [
    "class Sigmoid:\n",
    "    '''\n",
    "    A sigmoid function is a mathematical function having a\n",
    "    characteristic \"S\"-shaped curve or sigmoid curve.\n",
    "    It return S(x)=1/(1+e^-x)\n",
    "    '''\n",
    "    \n",
    "    def __init__(self): pass\n",
    "\n",
    "    def __val(self, matrix):\n",
    "        '''\n",
    "        Returns 1/(1+e^-x) of values\n",
    "        \n",
    "            Parameters:\n",
    "                matrix: np.matrix of values\n",
    "            Returns:\n",
    "                sigmoid_value: np.matrix of relu activation function result\n",
    "        '''\n",
    "        sigmoid_value = 1/(1 + np.exp(-matrix))\n",
    "        return sigmoid_value\n",
    "\n",
    "    def derivative(self, matrix):\n",
    "        '''\n",
    "        Returns the derivation value of sigmoid function on input matrix.\n",
    "        \n",
    "            Parameters:\n",
    "                matrix: np.matrix of values\n",
    "            Returns:\n",
    "                sigmoid_derivative: np.matrix of sigmoid activation function derivation result\n",
    "        '''\n",
    "        sigmoid = self.__val(matrix)\n",
    "        sigmoid_derivative = np.multiply(sigmoid, 1 - sigmoid)\n",
    "        return sigmoid_derivative\n",
    "    \n",
    "    def __call__(self, matrix):\n",
    "        '''\n",
    "        __call__ is a special function in Python that, when implemented inside a class,\n",
    "        gives its instances (objects) the ability to behave like a function.\n",
    "        Here we return the _val method output.\n",
    "            \n",
    "            Parameters:\n",
    "                matrix: np.matrix of values\n",
    "            Returns:\n",
    "                __val(matrix): __val return value for the input matrix\n",
    "        '''\n",
    "        return self.__val(matrix)"
   ]
  },
  {
   "cell_type": "markdown",
   "metadata": {},
   "source": [
    "<html>\n",
    "    <div dir = \"rtl\" style=\"font-size: 22px; color: green\">\n",
    "        <b>\n",
    "            Softmax\n",
    "        </b>\n",
    "    </div>\n",
    "    <div dir = \"rtl\" style = \"font-size: 16px\">\n",
    "    </div>\n",
    "</html>"
   ]
  },
  {
   "cell_type": "code",
   "execution_count": 17,
   "metadata": {},
   "outputs": [],
   "source": [
    "class Softmax:\n",
    "    '''\n",
    "    The softmax function, also known as softargmax  or normalized\n",
    "    exponential function is a generalization of the logistic\n",
    "    function to multiple dimensions. It is used in multinomial logistic\n",
    "    regression and is often used as the last activation function of a neural\n",
    "    network to normalize the output of a network to a probability distribution\n",
    "    over predicted output classes, based on Luce's choice axiom.\n",
    "    Softmax return (e^x_i / (Σe^x_j for j = 1, ..., J))\n",
    "    '''\n",
    "        \n",
    "    def __init__(self): pass\n",
    "    '''\n",
    "    This is the constructor. It does not have any fields\n",
    "    as a result, there is no need to do anything in the constructor.\n",
    "    '''\n",
    "\n",
    "    def __val(self, matrix):\n",
    "        '''\n",
    "        This private method gets a matrix and uses the softmax on that.\n",
    "        Softmax return (e^x_i / (Σe^x_j for j = 1, ..., J))\n",
    "        \n",
    "            Parameters:\n",
    "                matrix: np.matrix of values\n",
    "            Returns:\n",
    "                relu_value: np.matrix of relu activation function result\n",
    "        '''\n",
    "        return np.exp(matrix) / np.exp(matrix).sum()\n",
    "    \n",
    "    def __call__(self, matrix):\n",
    "        '''\n",
    "        __call__ is a special function in Python that, when implemented inside a class,\n",
    "        gives its instances (objects) the ability to behave like a function.\n",
    "        Here we return the _val method output.\n",
    "            \n",
    "            Parameters:\n",
    "                matrix: np.matrix of values\n",
    "            Returns:\n",
    "                __val(matrix): __val return value for the input matrix\n",
    "        '''\n",
    "        return self.__val(matrix)"
   ]
  },
  {
   "cell_type": "markdown",
   "metadata": {},
   "source": [
    "<html>\n",
    "    <div dir = \"rtl\" style=\"font-size: 22px; color: green\">\n",
    "        <b>\n",
    "            Tanh\n",
    "        </b>\n",
    "    </div>\n",
    "    <div dir = \"rtl\" style = \"font-size: 16px\">\n",
    "    </div>\n",
    "</html>"
   ]
  },
  {
   "cell_type": "code",
   "execution_count": 18,
   "metadata": {},
   "outputs": [],
   "source": [
    "class Tanh:\n",
    "    \n",
    "    def __init__(self): pass\n",
    "    '''\n",
    "    This is the constructor. It does not have any fields\n",
    "    as a result, there is no need to do anything in the constructor.\n",
    "    '''\n",
    "\n",
    "    def __val(self, matrix):\n",
    "        '''\n",
    "        This private method gets a matrix and uses the activity function on that.\n",
    "        It performs Tanh on the values.\n",
    "        \n",
    "            Parameters:\n",
    "                matrix: np.matrix of values\n",
    "            Returns:\n",
    "                tanh_value: np.matrix of Tanh activation function result\n",
    "        '''\n",
    "        return np.tanh(matrix)\n",
    "\n",
    "    def derivative(self, matrix):\n",
    "        '''\n",
    "        Returns the derivation value of Tanh function on input matrix.\n",
    "        \n",
    "            Parameters:\n",
    "                matrix: np.matrix of values\n",
    "            Returns:\n",
    "                sigmoid_derivative: np.matrix of Tanh activation function derivation result\n",
    "        '''\n",
    "        return 1 - np.power(np.tanh(matrix), 2)\n",
    "    \n",
    "    def __call__(self, matrix):\n",
    "        '''\n",
    "        __call__ is a special function in Python that, when implemented inside a class,\n",
    "        gives its instances (objects) the ability to behave like a function.\n",
    "        Here we return the _val method output.\n",
    "            \n",
    "            Parameters:\n",
    "                matrix: np.matrix of values\n",
    "            Returns:\n",
    "                __val(matrix): __val return value for the input matrix\n",
    "        '''\n",
    "        return self.__val(matrix)"
   ]
  },
  {
   "cell_type": "markdown",
   "metadata": {},
   "source": [
    "<html>\n",
    "    <div dir = \"rtl\" style=\"font-size: 30px; color: green\">\n",
    "        <b>\n",
    "            Loss Functions\n",
    "        </b>\n",
    "    </div>\n",
    "    <div dir = \"rtl\" style = \"font-size: 16px\">\n",
    "    </div>\n",
    "</html>"
   ]
  },
  {
   "cell_type": "code",
   "execution_count": 19,
   "metadata": {},
   "outputs": [],
   "source": [
    "class CrossEntropy: #(with softmax)\n",
    "    '''\n",
    "    Cross-entropy is a measure of the difference between two probability\n",
    "    distributions for a given random variable or set of events. You might\n",
    "    recall that information quantifies the number of bits required to encode\n",
    "    and transmit an event.\n",
    "    The above image can help you.\n",
    "    '''\n",
    "    \n",
    "    def __init__(self): pass\n",
    "    '''\n",
    "    This is the constructor. It does not have any fields\n",
    "    as a result, there is no need to do anything in the constructor.\n",
    "    '''\n",
    "\n",
    "    def __val(self, true_val, expected_val):\n",
    "        '''\n",
    "        L(y^, y) = - Σ (y^(k)log (y^)^(k)) for k in K\n",
    "        Parameters:\n",
    "            true_val: calculated values (generated by neural network)\n",
    "            expected_val: real values in dataset\n",
    "        Returns:\n",
    "            cross_entropy_value: cross entropy of inputs\n",
    "        '''\n",
    "        assert np.shape(true_val)==np.shape(expected_val)\n",
    "        softmax = Softmax()\n",
    "        cross_entropy_value = np.sum(-np.multiply(expected_val, np.log(softmax(true_val + BIAS) + BIAS)), axis=1)\n",
    "        return cross_entropy_value\n",
    "        \n",
    "    def derivative(self, true_val, expected_val):\n",
    "        '''\n",
    "        Returns derivation of cross entropy.\n",
    "            Parameters:\n",
    "                true_val: calculated values (generated by neural network)\n",
    "                expected_val: real values in dataset\n",
    "            Returns:\n",
    "                cross_entropy_derivative: cross entropy derivation of inputs\n",
    "        '''\n",
    "        assert np.shape(true_val)==np.shape(expected_val)\n",
    "        softmax = Softmax()\n",
    "        cross_entropy_derivative = softmax(true_val) - expected_val\n",
    "        return cross_entropy_derivative\n",
    "    \n",
    "    def __call__(self, true_val, expected_val):\n",
    "        '''\n",
    "        __call__ is a special function in Python that, when implemented inside a class,\n",
    "        gives its instances (objects) the ability to behave like a function.\n",
    "        Here we return the _val method output.\n",
    "            \n",
    "            Parameters:\n",
    "                true_val: calculated values (generated by neural network)\n",
    "                expected_val: real values in dataset\n",
    "            Returns:\n",
    "                __val(matrix): __val return value for the input matrix\n",
    "        '''\n",
    "        return self.__val(true_val, expected_val)"
   ]
  },
  {
   "cell_type": "markdown",
   "metadata": {},
   "source": [
    "<html>\n",
    "    <div dir = \"rtl\" style=\"font-size: 30px; color: green\">\n",
    "        <b>\n",
    "            Layer\n",
    "        </b>\n",
    "    </div>\n",
    "    <div dir = \"rtl\" style = \"font-size: 16px\">\n",
    "    </div>\n",
    "</html>"
   ]
  },
  {
   "cell_type": "code",
   "execution_count": 34,
   "metadata": {},
   "outputs": [],
   "source": [
    "class Layer:\n",
    "    '''\n",
    "    The layer class is used to define neural network layers.\n",
    "    It stores all needed information for each layer, such as neurons count,\n",
    "    weight matrix, bias, the output after applying the activation function, etc.\n",
    "    '''\n",
    "\n",
    "    DEFAULT_LOW, DEFAULT_HIGH, DEFAULT_MEAN, DEFAULT_VAR = 0, 0.05, 0., 1.\n",
    "  \n",
    "    def __init__(self, input_size, output_size, activation=Identical(), initial_weight='uniform', \n",
    "                 **initializing_parameters):\n",
    "        '''\n",
    "        Parameters:\n",
    "            input_size: the size of the input of this layer.\n",
    "            output_size: the size of the output after this layer.\n",
    "            activation: the activation function. It can be initialized to either of the previously defined activation classes.\n",
    "                               default is an Identical activation function.\n",
    "            initial_weight: either normal or uniform. It defines the method for weight initialization.\n",
    "        '''\n",
    "        \n",
    "        assert type(initial_weight)==str, 'Undefined activation function!'\n",
    "        \n",
    "        self.__weight_initializer_dict = {'uniform':self.__uniform_weight, 'normal':self.__normal_weight}\n",
    "        \n",
    "        assert initial_weight in self.__weight_initializer_dict, 'Undefined weight initialization function!'\n",
    "\n",
    "\n",
    "        self.__n_neurons = output_size\n",
    "        weight_initializer = self.__weight_initializer_dict[initial_weight]\n",
    "        self.__weight = weight_initializer(input_size, self.__n_neurons, **initializing_parameters)\n",
    "        self.__bias = weight_initializer(1, self.__n_neurons, **initializing_parameters)\n",
    "        self.__activation = activation\n",
    "        \n",
    "        self.__last_input = None\n",
    "        self.__last_activation_input = None\n",
    "        self.__last_activation_output = None\n",
    "        self.__last_activation_derivative = None\n",
    "        \n",
    "    def forward(self, layer_input):\n",
    "        '''\n",
    "        It calculates the output of this layer for the layer_input argument.\n",
    "        This method also stores __last_input, __last_activation_input, and __last_activation_derivative\n",
    "        for future use in backpropagation.\n",
    "        Parameters:\n",
    "            layer_input: 2d np.matrix representing the input matrix of this layer.\n",
    "        Returns:\n",
    "            Final output of this layer after applying the activation function.\n",
    "        '''\n",
    "        assert np.ndim(layer_input)==2\n",
    "        print (np.size(self.__weight, 0), np.size(layer_input, 1))\n",
    "        assert np.size(self.__weight,0) == np.size(layer_input,1)\n",
    "        \n",
    "        self.__last_input = copy.deepcopy(layer_input)\n",
    "        self.__last_activation_input =  (layer_input@self.__weight)+self.__bias\n",
    "        self.__last_activation_output = self.__activation(self.__last_activation_input)\n",
    "        self.__last_activation_derivative = self.__activation.derivative(self.__last_activation_input)\n",
    "        \n",
    "        return self.__last_activation_output\n",
    "    \n",
    "    def update_weights(self, backprop_tensor, lr):\n",
    "        '''\n",
    "        It updates Layer weights according to the backpropagation matrix and learning rate.\n",
    "        This method updates bias values as well.\n",
    "        Parameters:\n",
    "            backprop_tensor: 2d np.matrix passed from the next layer containing gradient values.\n",
    "            lr: learning rate\n",
    "        Returns:\n",
    "            backprop_tensor to be used by the previous layer.\n",
    "        '''\n",
    "        assert np.ndim(backprop_tensor)==2\n",
    "        assert np.size(backprop_tensor,0) == np.size(self.__last_activation_derivative,0)\n",
    "        assert np.size(backprop_tensor,1) == self.__n_neurons\n",
    "        \n",
    "        backprop_tensor_copy = copy.deepcopy(backprop_tensor)\n",
    "        dy = np.multiply(backprop_tensor_copy, self.__last_activation_derivative)\n",
    "        backprop_tensor = np.dot(dy, self.__weight.transpose()) #dL_dx\n",
    "        \n",
    "        dW = np.dot(self.__last_input.T, dy)\n",
    "        self.__weight -= (lr * dW)\n",
    "        \n",
    "        ones_ = np.ones((1, dy.shape[0]))\n",
    "        db = np.dot(ones_, dy)\n",
    "        self.__bias -= (lr * db)\n",
    "        \n",
    "        return backprop_tensor\n",
    "\n",
    "    def __uniform_weight(self, dim1, dim2, **initializing_parameters):\n",
    "        '''\n",
    "        Initializes weights as a uniform distribution between low and high values.\n",
    "        It uses default low and high values unless low or high are passed in initializing_parameters.\n",
    "        Parameters:\n",
    "            dim1: the size of the first dimension of weights.\n",
    "            dim2: the size of the second dimension of weights.\n",
    "            initializing_parameters: other initializing parameters; it can include custom low or high values.\n",
    "        Returns:\n",
    "            np.matrix with size (dim1, dim2) initialized using uniformly distributed values.\n",
    "        '''\n",
    "        low, high = self.DEFAULT_LOW, self.DEFAULT_HIGH\n",
    "        if 'low' in initializing_parameters.keys(): low = initializing_parameters['low']\n",
    "        if 'high' in initializing_parameters.keys(): high = initializing_parameters['high']\n",
    "        weights = np.random.uniform(low=low, high=high, size=(dim1, dim2))\n",
    "        return weights\n",
    "\n",
    "    def __normal_weight(self, dim1, dim2, **initializing_parameters):\n",
    "        '''\n",
    "        Initializes weights as a normal distribution with mean and var values.\n",
    "        It uses default mean and variance values unless mean or var are passed in initializing_parameters.\n",
    "        Parameters:\n",
    "            dim1: the size of the first dimension of weights.\n",
    "            dim2: the size of the second dimension of weights.\n",
    "            initializing_parameters: other initializing parameters; it can include custom mean or var values.\n",
    "        Returns:\n",
    "            np.matrix with size (dim1, dim2) initialized using normaly distributed values.\n",
    "        ''' \n",
    "        mean, var = self.DEFAULT_MEAN, self.DEFAULT_VAR\n",
    "        if 'mean' in initializing_parameters.keys(): mean = initializing_parameters['mean']\n",
    "        if 'var' in initializing_parameters.keys(): var = initializing_parameters['var']\n",
    "        weights = np.random.normal(loc = mean, scale = np.sqrt(var), size=(dim1, dim2))\n",
    "        return weights\n",
    "    \n",
    "    @property\n",
    "    def n_neurons(self): return self.__n_neurons\n",
    "    \n",
    "    @property\n",
    "    def weight(self): return self.__weight\n",
    "    \n",
    "    @property\n",
    "    def bias(self): return self.__bias\n",
    "    \n",
    "    @property\n",
    "    def activation(self): return self.__activation"
   ]
  },
  {
   "cell_type": "markdown",
   "metadata": {},
   "source": [
    "<html>\n",
    "    <div dir = \"rtl\" style=\"font-size: 30px; color: green\">\n",
    "        <b>\n",
    "            Feed Forward Neural Network\n",
    "        </b>\n",
    "    </div>\n",
    "    <div dir = \"rtl\" style = \"font-size: 16px\">\n",
    "    </div>\n",
    "</html>"
   ]
  },
  {
   "cell_type": "code",
   "execution_count": 32,
   "metadata": {},
   "outputs": [],
   "source": [
    "class FeedForwardNN:\n",
    "    '''\n",
    "    This class is used in order to implement custom feed-forward neural networks.\n",
    "    The FeedForwardNN class stores a list of layers that determines all network layers.\n",
    "    It also consists of the learning rate and loss function.\n",
    "    '''\n",
    "    def __init__(self, input_shape):\n",
    "        '''\n",
    "        Parameters:\n",
    "            input_shape: the size of the first input to our neural network.\n",
    "        '''\n",
    "        \n",
    "        self.__input_shape = input_shape\n",
    "        self.__output_shape = None\n",
    "        \n",
    "        self.__layers_list = []\n",
    "        \n",
    "        self.__lr = None\n",
    "        self.__loss = None\n",
    "\n",
    "        \n",
    "    def add_layer(self, n_neurons, activation=Relu(), initial_weight='uniform', **initializing_parameters):\n",
    "        '''\n",
    "         This method adds a new custom layer to the layers_list.\n",
    "         Parameters:\n",
    "             n_neurons: number of neurons in this layer\n",
    "             activation: the activation function of this layer, default is Relu\n",
    "             initial_weight: either a uniform or normal, default is uniform\n",
    "             initializing_parameters: other initializing parameters such as low, high, mean, var, etc\n",
    "        '''\n",
    "         \n",
    "        assert type(n_neurons)==int, \"Invalid number of neurons for the layer!\"\n",
    "        assert n_neurons>0, \"Invalid number of neurons for the layer!\"\n",
    "        \n",
    "        n_prev_neurons = self.__input_shape if len(self.__layers_list)==0 else self.__layers_list[-1].n_neurons\n",
    "        new_layer = Layer(n_prev_neurons, n_neurons, activation, initial_weight, **initializing_parameters)\n",
    "        self.__layers_list.append(new_layer)\n",
    "        self.__output_shape = self.__layers_list[-1].n_neurons \n",
    "      \n",
    "    \n",
    "    def set_training_param(self, loss=CrossEntropy(), lr=1e-3):\n",
    "        '''\n",
    "        This method is used to set training parameters.\n",
    "        Parameters:\n",
    "            loss: loss function, default is CrossEntropy\n",
    "            lr: learning rate, default is 1e-3\n",
    "        '''\n",
    "        assert self.__layers_list, \"Uncomplete model!\"\n",
    "        self.__loss = loss\n",
    "        self.__lr = lr\n",
    "    \n",
    "    \n",
    "    def forward(self, network_input):\n",
    "        '''\n",
    "        This method calculates the output of the complete neural network for a passed input.\n",
    "        Parameters:\n",
    "            network_input: input of the neural network\n",
    "        Returns:\n",
    "            network_output: output of the neural network after forwarding the network_input\n",
    "        '''\n",
    "        assert type(self.__output_shape) != None, \"Model is not compiled!\"\n",
    "        network_output = network_input\n",
    "        for layer in self.__layers_list:\n",
    "            network_output = layer.forward(network_output)\n",
    "        return network_output\n",
    "    \n",
    "    \n",
    "    def fit(self, epochs, trainloader, testloader=None, print_results=True):\n",
    "        '''\n",
    "        This method trains the neural network using specified parameters.\n",
    "        It runs the __train private method epoch times and fills the log dictionary.\n",
    "        Parameters:\n",
    "            epochs: number of epochs to run\n",
    "            trainloader: DataLoader for train data\n",
    "            testloader: DataLoader for test data\n",
    "            print_results: whether or not to print the results\n",
    "        Returns:\n",
    "            log: complete log of the training process as a dictionary consisting of\n",
    "            train_accuracy, train_loss, test_accuracy, test_loss\n",
    "        '''\n",
    "        \n",
    "        assert type(self.__output_shape) != None, \"Model is not compiled!\"\n",
    "        assert type(self.__lr) != None and type(self.__loss) != None, \"Training paramenters are not set!\"\n",
    "\n",
    "        log = {\"train_accuracy\":[], \"train_loss\":[], \"test_accuracy\":[], \"test_loss\":[]}\n",
    "        \n",
    "        for epoch in range(1, epochs+1):\n",
    "            \n",
    "            if print_results: \n",
    "                print('Epoch {}:'.format(epoch)) \n",
    "                \n",
    "            average_accuracy, average_loss = self.__train(trainloader)\n",
    "            log['train_accuracy'].append(average_accuracy)\n",
    "            log['train_loss'].append(average_loss)\n",
    "            if print_results:\n",
    "                print('\\tTrain: Average Accuracy: {}\\tAverage Loss: {}'.format(average_accuracy, average_loss))\n",
    "            \n",
    "            if type(testloader) != type(None):\n",
    "                average_accuracy, average_loss = self.__test(testloader)\n",
    "                log['test_accuracy'].append(average_accuracy)\n",
    "                log['test_loss'].append(average_loss)\n",
    "                if print_results:\n",
    "                    print('\\tTest: Average Accuracy: {}\\tAverage Loss: {}'.format(average_accuracy, average_loss))\n",
    "                    \n",
    "        return log\n",
    "    \n",
    "    \n",
    "    def __train(self, trainloader):\n",
    "        '''\n",
    "        Trains the neural network for one epoch.\n",
    "        Parameters:\n",
    "            trainloader: A DataLoader consisting of train data\n",
    "        Returns:\n",
    "            batch_accuracy, batch_loss: mean of all batch_accuracies, batch_losses\n",
    "        '''\n",
    "        bach_accuracies, batch_losses = [], []\n",
    "        for x_train, y_train in trainloader:\n",
    "            batch_accuracy, batch_loss = self.__train_on_batch(x_train, y_train)\n",
    "            bach_accuracies.append(batch_accuracy)\n",
    "            batch_losses.append(batch_loss)\n",
    "        return np.mean(bach_accuracies), np.mean(batch_losses)\n",
    "    \n",
    "    \n",
    "    def __test(self, testloader):\n",
    "        '''\n",
    "        Test the neural network using a testloader.\n",
    "        Parameters:\n",
    "            testloader: A DataLoader of test data\n",
    "        Returns:\n",
    "            batch_accuracy, batch_loss: mean of all batch_accuracies, batch_losses\n",
    "        '''\n",
    "        bach_accuracies, batch_losses = [], []\n",
    "        for x_test, y_test in testloader:\n",
    "            batch_accuracy, batch_loss = self.__test_on_batch(x_test, y_test)\n",
    "            bach_accuracies.append(batch_accuracy)\n",
    "            batch_losses.append(batch_loss)\n",
    "        return np.mean(bach_accuracies), np.mean(batch_losses)\n",
    "\n",
    "    \n",
    "    def __train_on_batch(self, x_batch, y_batch):\n",
    "        '''\n",
    "        Trains the neural network for one batch of train data.\n",
    "        Parameters:\n",
    "            x_batch: one batch data\n",
    "            y_batch: labels for one batch\n",
    "        Returns:\n",
    "            (batch_accuracy, batch_average_loss)\n",
    "        '''\n",
    "        batch_out = self.forward(x_batch)\n",
    "        batch_accuracy = self.__compute_accuracy(batch_out, y_batch)\n",
    "        batch_average_loss = np.mean(self.__loss(batch_out, y_batch))\n",
    "        self.__update_weights(batch_out, y_batch)\n",
    "        return (batch_accuracy, batch_average_loss)\n",
    "        \n",
    "        \n",
    "    def __test_on_batch(self, x_batch, y_batch):\n",
    "        '''\n",
    "        Tests the neural network for one batch of test data.\n",
    "        Parameters:\n",
    "            x_batch: one batch data\n",
    "            y_batch: labels for one batch\n",
    "        Returns:\n",
    "            (batch_accuracy, batch_average_loss)\n",
    "        '''  \n",
    "        out = self.forward(x_batch)\n",
    "        batch_accuracy = self.__compute_accuracy(out,y_batch)\n",
    "        cross_entropy = CrossEntropy()\n",
    "        batch_loss = cross_entropy(out, y_batch)\n",
    "        batch_average_loss = np.sum(batch_loss)/len(out)\n",
    "        return (batch_accuracy, batch_average_loss)\n",
    "            \n",
    "        \n",
    "    def __get_labels(self, outputs):\n",
    "        '''\n",
    "        Parameters:\n",
    "            outputs: output of the neural network\n",
    "        Returns:\n",
    "            labels: labels generated from the outputs of the neural network\n",
    "        '''\n",
    "        labels = outputs.argmax(1)\n",
    "        return labels\n",
    "    \n",
    "    \n",
    "    def __compute_accuracy(self, output, expected_output):\n",
    "        '''\n",
    "        Computes accuracy by comparing output and expected_output.\n",
    "        Parameters:\n",
    "            output: actual output of the neural network\n",
    "            expected_output: expected output\n",
    "        Returns:\n",
    "            accuracy\n",
    "        '''\n",
    "        \n",
    "        return accuracy_score(expected_output, output)\n",
    "    \n",
    "    \n",
    "    def __update_weights(self, output, y_train):\n",
    "        '''\n",
    "        Updates weights of all layers according to neural network output and labels.\n",
    "        Parameters:\n",
    "            output: output of the neural network\n",
    "            y_train: y labels for one batch of train data\n",
    "        Returns:\n",
    "            None\n",
    "        '''\n",
    "        backpropagation_tensor = self.__loss.derivative(output, y_train)\n",
    "        for layer in reversed(self.__layers_list):\n",
    "            backpropagation_tensor = layer.update_weights(backpropagation_tensor, self.__lr)\n",
    "        return"
   ]
  },
  {
   "cell_type": "markdown",
   "metadata": {},
   "source": [
    "<html>\n",
    "    <div dir = \"rtl\" style=\"font-size: 24px; color: orange\">\n",
    "        <b>\n",
    "            بخش سوم: طبقه بندی داده‌ها\n",
    "        </b>\n",
    "    </div>\n",
    "</html>"
   ]
  },
  {
   "cell_type": "code",
   "execution_count": 33,
   "metadata": {},
   "outputs": [
    {
     "name": "stdout",
     "output_type": "stream",
     "text": [
      "Epoch 1:\n",
      "625 1\n"
     ]
    },
    {
     "ename": "ValueError",
     "evalue": "matmul: Input operand 1 has a mismatch in its core dimension 0, with gufunc signature (n?,k),(k,m?)->(n?,m?) (size 625 is different from 1)",
     "output_type": "error",
     "traceback": [
      "\u001b[0;31m---------------------------------------------------------------------------\u001b[0m",
      "\u001b[0;31mValueError\u001b[0m                                Traceback (most recent call last)",
      "\u001b[0;32m<ipython-input-33-dd23466bb995>\u001b[0m in \u001b[0;36m<module>\u001b[0;34m\u001b[0m\n\u001b[1;32m     12\u001b[0m \u001b[0mnetwork\u001b[0m\u001b[0;34m.\u001b[0m\u001b[0mset_training_param\u001b[0m\u001b[0;34m(\u001b[0m\u001b[0mloss\u001b[0m\u001b[0;34m=\u001b[0m\u001b[0mCrossEntropy\u001b[0m\u001b[0;34m(\u001b[0m\u001b[0;34m)\u001b[0m\u001b[0;34m,\u001b[0m \u001b[0mlr\u001b[0m\u001b[0;34m=\u001b[0m\u001b[0mLEARNING_RATE\u001b[0m\u001b[0;34m)\u001b[0m\u001b[0;34m\u001b[0m\u001b[0;34m\u001b[0m\u001b[0m\n\u001b[1;32m     13\u001b[0m \u001b[0;34m\u001b[0m\u001b[0m\n\u001b[0;32m---> 14\u001b[0;31m \u001b[0mlog\u001b[0m \u001b[0;34m=\u001b[0m \u001b[0mnetwork\u001b[0m\u001b[0;34m.\u001b[0m\u001b[0mfit\u001b[0m\u001b[0;34m(\u001b[0m\u001b[0mEPOCHS\u001b[0m\u001b[0;34m,\u001b[0m \u001b[0mTRAINLOADER\u001b[0m\u001b[0;34m,\u001b[0m \u001b[0mTESTLOADER\u001b[0m\u001b[0;34m)\u001b[0m\u001b[0;34m\u001b[0m\u001b[0;34m\u001b[0m\u001b[0m\n\u001b[0m",
      "\u001b[0;32m<ipython-input-32-400be2e01c48>\u001b[0m in \u001b[0;36mfit\u001b[0;34m(self, epochs, trainloader, testloader, print_results)\u001b[0m\n\u001b[1;32m     90\u001b[0m                 \u001b[0mprint\u001b[0m\u001b[0;34m(\u001b[0m\u001b[0;34m'Epoch {}:'\u001b[0m\u001b[0;34m.\u001b[0m\u001b[0mformat\u001b[0m\u001b[0;34m(\u001b[0m\u001b[0mepoch\u001b[0m\u001b[0;34m)\u001b[0m\u001b[0;34m)\u001b[0m\u001b[0;34m\u001b[0m\u001b[0;34m\u001b[0m\u001b[0m\n\u001b[1;32m     91\u001b[0m \u001b[0;34m\u001b[0m\u001b[0m\n\u001b[0;32m---> 92\u001b[0;31m             \u001b[0maverage_accuracy\u001b[0m\u001b[0;34m,\u001b[0m \u001b[0maverage_loss\u001b[0m \u001b[0;34m=\u001b[0m \u001b[0mself\u001b[0m\u001b[0;34m.\u001b[0m\u001b[0m__train\u001b[0m\u001b[0;34m(\u001b[0m\u001b[0mtrainloader\u001b[0m\u001b[0;34m)\u001b[0m\u001b[0;34m\u001b[0m\u001b[0;34m\u001b[0m\u001b[0m\n\u001b[0m\u001b[1;32m     93\u001b[0m             \u001b[0mlog\u001b[0m\u001b[0;34m[\u001b[0m\u001b[0;34m'train_accuracy'\u001b[0m\u001b[0;34m]\u001b[0m\u001b[0;34m.\u001b[0m\u001b[0mappend\u001b[0m\u001b[0;34m(\u001b[0m\u001b[0maverage_accuracy\u001b[0m\u001b[0;34m)\u001b[0m\u001b[0;34m\u001b[0m\u001b[0;34m\u001b[0m\u001b[0m\n\u001b[1;32m     94\u001b[0m             \u001b[0mlog\u001b[0m\u001b[0;34m[\u001b[0m\u001b[0;34m'train_loss'\u001b[0m\u001b[0;34m]\u001b[0m\u001b[0;34m.\u001b[0m\u001b[0mappend\u001b[0m\u001b[0;34m(\u001b[0m\u001b[0maverage_loss\u001b[0m\u001b[0;34m)\u001b[0m\u001b[0;34m\u001b[0m\u001b[0;34m\u001b[0m\u001b[0m\n",
      "\u001b[0;32m<ipython-input-32-400be2e01c48>\u001b[0m in \u001b[0;36m__train\u001b[0;34m(self, trainloader)\u001b[0m\n\u001b[1;32m    116\u001b[0m         \u001b[0mbach_accuracies\u001b[0m\u001b[0;34m,\u001b[0m \u001b[0mbatch_losses\u001b[0m \u001b[0;34m=\u001b[0m \u001b[0;34m[\u001b[0m\u001b[0;34m]\u001b[0m\u001b[0;34m,\u001b[0m \u001b[0;34m[\u001b[0m\u001b[0;34m]\u001b[0m\u001b[0;34m\u001b[0m\u001b[0;34m\u001b[0m\u001b[0m\n\u001b[1;32m    117\u001b[0m         \u001b[0;32mfor\u001b[0m \u001b[0mx_train\u001b[0m\u001b[0;34m,\u001b[0m \u001b[0my_train\u001b[0m \u001b[0;32min\u001b[0m \u001b[0mtrainloader\u001b[0m\u001b[0;34m:\u001b[0m\u001b[0;34m\u001b[0m\u001b[0;34m\u001b[0m\u001b[0m\n\u001b[0;32m--> 118\u001b[0;31m             \u001b[0mbatch_accuracy\u001b[0m\u001b[0;34m,\u001b[0m \u001b[0mbatch_loss\u001b[0m \u001b[0;34m=\u001b[0m \u001b[0mself\u001b[0m\u001b[0;34m.\u001b[0m\u001b[0m__train_on_batch\u001b[0m\u001b[0;34m(\u001b[0m\u001b[0mx_train\u001b[0m\u001b[0;34m,\u001b[0m \u001b[0my_train\u001b[0m\u001b[0;34m)\u001b[0m\u001b[0;34m\u001b[0m\u001b[0;34m\u001b[0m\u001b[0m\n\u001b[0m\u001b[1;32m    119\u001b[0m             \u001b[0mbach_accuracies\u001b[0m\u001b[0;34m.\u001b[0m\u001b[0mappend\u001b[0m\u001b[0;34m(\u001b[0m\u001b[0mbatch_accuracy\u001b[0m\u001b[0;34m)\u001b[0m\u001b[0;34m\u001b[0m\u001b[0;34m\u001b[0m\u001b[0m\n\u001b[1;32m    120\u001b[0m             \u001b[0mbatch_losses\u001b[0m\u001b[0;34m.\u001b[0m\u001b[0mappend\u001b[0m\u001b[0;34m(\u001b[0m\u001b[0mbatch_loss\u001b[0m\u001b[0;34m)\u001b[0m\u001b[0;34m\u001b[0m\u001b[0;34m\u001b[0m\u001b[0m\n",
      "\u001b[0;32m<ipython-input-32-400be2e01c48>\u001b[0m in \u001b[0;36m__train_on_batch\u001b[0;34m(self, x_batch, y_batch)\u001b[0m\n\u001b[1;32m    147\u001b[0m             \u001b[0;34m(\u001b[0m\u001b[0mbatch_accuracy\u001b[0m\u001b[0;34m,\u001b[0m \u001b[0mbatch_average_loss\u001b[0m\u001b[0;34m)\u001b[0m\u001b[0;34m\u001b[0m\u001b[0;34m\u001b[0m\u001b[0m\n\u001b[1;32m    148\u001b[0m         '''\n\u001b[0;32m--> 149\u001b[0;31m         \u001b[0mbatch_out\u001b[0m \u001b[0;34m=\u001b[0m \u001b[0mself\u001b[0m\u001b[0;34m.\u001b[0m\u001b[0mforward\u001b[0m\u001b[0;34m(\u001b[0m\u001b[0mx_batch\u001b[0m\u001b[0;34m)\u001b[0m\u001b[0;34m\u001b[0m\u001b[0;34m\u001b[0m\u001b[0m\n\u001b[0m\u001b[1;32m    150\u001b[0m         \u001b[0mbatch_accuracy\u001b[0m \u001b[0;34m=\u001b[0m \u001b[0mself\u001b[0m\u001b[0;34m.\u001b[0m\u001b[0m__compute_accuracy\u001b[0m\u001b[0;34m(\u001b[0m\u001b[0mbatch_out\u001b[0m\u001b[0;34m,\u001b[0m \u001b[0my_batch\u001b[0m\u001b[0;34m)\u001b[0m\u001b[0;34m\u001b[0m\u001b[0;34m\u001b[0m\u001b[0m\n\u001b[1;32m    151\u001b[0m         \u001b[0mbatch_average_loss\u001b[0m \u001b[0;34m=\u001b[0m \u001b[0mnp\u001b[0m\u001b[0;34m.\u001b[0m\u001b[0mmean\u001b[0m\u001b[0;34m(\u001b[0m\u001b[0mself\u001b[0m\u001b[0;34m.\u001b[0m\u001b[0m__loss\u001b[0m\u001b[0;34m(\u001b[0m\u001b[0mbatch_out\u001b[0m\u001b[0;34m,\u001b[0m \u001b[0my_batch\u001b[0m\u001b[0;34m)\u001b[0m\u001b[0;34m)\u001b[0m\u001b[0;34m\u001b[0m\u001b[0;34m\u001b[0m\u001b[0m\n",
      "\u001b[0;32m<ipython-input-32-400be2e01c48>\u001b[0m in \u001b[0;36mforward\u001b[0;34m(self, network_input)\u001b[0m\n\u001b[1;32m     62\u001b[0m         \u001b[0mnetwork_output\u001b[0m \u001b[0;34m=\u001b[0m \u001b[0mnetwork_input\u001b[0m\u001b[0;34m\u001b[0m\u001b[0;34m\u001b[0m\u001b[0m\n\u001b[1;32m     63\u001b[0m         \u001b[0;32mfor\u001b[0m \u001b[0mlayer\u001b[0m \u001b[0;32min\u001b[0m \u001b[0mself\u001b[0m\u001b[0;34m.\u001b[0m\u001b[0m__layers_list\u001b[0m\u001b[0;34m:\u001b[0m\u001b[0;34m\u001b[0m\u001b[0;34m\u001b[0m\u001b[0m\n\u001b[0;32m---> 64\u001b[0;31m             \u001b[0mnetwork_output\u001b[0m \u001b[0;34m=\u001b[0m \u001b[0mlayer\u001b[0m\u001b[0;34m.\u001b[0m\u001b[0mforward\u001b[0m\u001b[0;34m(\u001b[0m\u001b[0mnetwork_output\u001b[0m\u001b[0;34m)\u001b[0m\u001b[0;34m\u001b[0m\u001b[0;34m\u001b[0m\u001b[0m\n\u001b[0m\u001b[1;32m     65\u001b[0m         \u001b[0;32mreturn\u001b[0m \u001b[0mnetwork_output\u001b[0m\u001b[0;34m\u001b[0m\u001b[0;34m\u001b[0m\u001b[0m\n\u001b[1;32m     66\u001b[0m \u001b[0;34m\u001b[0m\u001b[0m\n",
      "\u001b[0;32m<ipython-input-29-6d4345d1fbe3>\u001b[0m in \u001b[0;36mforward\u001b[0;34m(self, layer_input)\u001b[0m\n\u001b[1;32m     52\u001b[0m \u001b[0;34m\u001b[0m\u001b[0m\n\u001b[1;32m     53\u001b[0m         \u001b[0mself\u001b[0m\u001b[0;34m.\u001b[0m\u001b[0m__last_input\u001b[0m \u001b[0;34m=\u001b[0m \u001b[0mcopy\u001b[0m\u001b[0;34m.\u001b[0m\u001b[0mdeepcopy\u001b[0m\u001b[0;34m(\u001b[0m\u001b[0mlayer_input\u001b[0m\u001b[0;34m)\u001b[0m\u001b[0;34m\u001b[0m\u001b[0;34m\u001b[0m\u001b[0m\n\u001b[0;32m---> 54\u001b[0;31m         \u001b[0mself\u001b[0m\u001b[0;34m.\u001b[0m\u001b[0m__last_activation_input\u001b[0m \u001b[0;34m=\u001b[0m  \u001b[0;34m(\u001b[0m\u001b[0mlayer_input\u001b[0m\u001b[0;34m@\u001b[0m\u001b[0mself\u001b[0m\u001b[0;34m.\u001b[0m\u001b[0m__weight\u001b[0m\u001b[0;34m)\u001b[0m\u001b[0;34m+\u001b[0m\u001b[0mself\u001b[0m\u001b[0;34m.\u001b[0m\u001b[0m__bias\u001b[0m\u001b[0;34m\u001b[0m\u001b[0;34m\u001b[0m\u001b[0m\n\u001b[0m\u001b[1;32m     55\u001b[0m         \u001b[0mself\u001b[0m\u001b[0;34m.\u001b[0m\u001b[0m__last_activation_output\u001b[0m \u001b[0;34m=\u001b[0m \u001b[0mself\u001b[0m\u001b[0;34m.\u001b[0m\u001b[0m__activation\u001b[0m\u001b[0;34m(\u001b[0m\u001b[0mself\u001b[0m\u001b[0;34m.\u001b[0m\u001b[0m__last_activation_input\u001b[0m\u001b[0;34m)\u001b[0m\u001b[0;34m\u001b[0m\u001b[0;34m\u001b[0m\u001b[0m\n\u001b[1;32m     56\u001b[0m         \u001b[0mself\u001b[0m\u001b[0;34m.\u001b[0m\u001b[0m__last_activation_derivative\u001b[0m \u001b[0;34m=\u001b[0m \u001b[0mself\u001b[0m\u001b[0;34m.\u001b[0m\u001b[0m__activation\u001b[0m\u001b[0;34m.\u001b[0m\u001b[0mderivative\u001b[0m\u001b[0;34m(\u001b[0m\u001b[0mself\u001b[0m\u001b[0;34m.\u001b[0m\u001b[0m__last_activation_input\u001b[0m\u001b[0;34m)\u001b[0m\u001b[0;34m\u001b[0m\u001b[0;34m\u001b[0m\u001b[0m\n",
      "\u001b[0;31mValueError\u001b[0m: matmul: Input operand 1 has a mismatch in its core dimension 0, with gufunc signature (n?,k),(k,m?)->(n?,m?) (size 625 is different from 1)"
     ]
    }
   ],
   "source": [
    "INPUT_SHAPE = 25 * 25\n",
    "LEARNING_RATE = 0.001\n",
    "EPOCHS = 15\n",
    "TRAINLOADER = Dataloader(pd.DataFrame({'pic':train['pic'].tolist()}), pd.DataFrame({'label':train['label'].tolist()}), n_classes = 10, batch_size = 32)\n",
    "TESTLOADER = Dataloader(pd.DataFrame({'pic':test['pic'].tolist()}), pd.DataFrame({'label':test['label'].tolist()}), n_classes = 10)\n",
    "\n",
    "\n",
    "network = FeedForwardNN(INPUT_SHAPE)\n",
    "network.add_layer(n_neurons=40, input_shape=INPUT_SHAPE, activation=Relu(), weight_initializer='uniform')\n",
    "network.add_layer(n_neurons=10, input_shape=INPUT_SHAPE, activation=Relu(), weight_initializer='uniform')\n",
    "network.add_layer(n_neurons=10, activation=Identical(), weight_initializer='uniform')\n",
    "network.set_training_param(loss=CrossEntropy(), lr=LEARNING_RATE)\n",
    "\n",
    "log = network.fit(EPOCHS, TRAINLOADER, TESTLOADER)"
   ]
  },
  {
   "cell_type": "code",
   "execution_count": null,
   "metadata": {},
   "outputs": [],
   "source": [
    "np.zeros((2 , 3))"
   ]
  }
 ],
 "metadata": {
  "kernelspec": {
   "display_name": "Python 3",
   "language": "python",
   "name": "python3"
  },
  "language_info": {
   "codemirror_mode": {
    "name": "ipython",
    "version": 3
   },
   "file_extension": ".py",
   "mimetype": "text/x-python",
   "name": "python",
   "nbconvert_exporter": "python",
   "pygments_lexer": "ipython3",
   "version": "3.8.10"
  }
 },
 "nbformat": 4,
 "nbformat_minor": 4
}
